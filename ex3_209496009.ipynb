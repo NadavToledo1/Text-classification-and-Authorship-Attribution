{
  "nbformat": 4,
  "nbformat_minor": 0,
  "metadata": {
    "colab": {
      "provenance": [],
      "gpuType": "T4"
    },
    "kernelspec": {
      "name": "python3",
      "display_name": "Python 3"
    },
    "language_info": {
      "name": "python"
    },
    "accelerator": "GPU",
    "widgets": {
      "application/vnd.jupyter.widget-state+json": {
        "3195bb05eb584e27be2ac947af368846": {
          "model_module": "@jupyter-widgets/controls",
          "model_name": "HBoxModel",
          "model_module_version": "1.5.0",
          "state": {
            "_dom_classes": [],
            "_model_module": "@jupyter-widgets/controls",
            "_model_module_version": "1.5.0",
            "_model_name": "HBoxModel",
            "_view_count": null,
            "_view_module": "@jupyter-widgets/controls",
            "_view_module_version": "1.5.0",
            "_view_name": "HBoxView",
            "box_style": "",
            "children": [
              "IPY_MODEL_c2c43bfb6ccf4462b25f004c07803291",
              "IPY_MODEL_2302cdde0f6a44bd89e6661d76b52b75",
              "IPY_MODEL_4cdfcc8e27ae47bb80e5c2a83f890ae1"
            ],
            "layout": "IPY_MODEL_374f4ab7471f4187bb36dd50c26f0e36"
          }
        },
        "c2c43bfb6ccf4462b25f004c07803291": {
          "model_module": "@jupyter-widgets/controls",
          "model_name": "HTMLModel",
          "model_module_version": "1.5.0",
          "state": {
            "_dom_classes": [],
            "_model_module": "@jupyter-widgets/controls",
            "_model_module_version": "1.5.0",
            "_model_name": "HTMLModel",
            "_view_count": null,
            "_view_module": "@jupyter-widgets/controls",
            "_view_module_version": "1.5.0",
            "_view_name": "HTMLView",
            "description": "",
            "description_tooltip": null,
            "layout": "IPY_MODEL_1911d27ec9aa4cf2b27f197e9840df4e",
            "placeholder": "​",
            "style": "IPY_MODEL_765561684f1348c189aa03534e0fa76d",
            "value": "tokenizer_config.json: 100%"
          }
        },
        "2302cdde0f6a44bd89e6661d76b52b75": {
          "model_module": "@jupyter-widgets/controls",
          "model_name": "FloatProgressModel",
          "model_module_version": "1.5.0",
          "state": {
            "_dom_classes": [],
            "_model_module": "@jupyter-widgets/controls",
            "_model_module_version": "1.5.0",
            "_model_name": "FloatProgressModel",
            "_view_count": null,
            "_view_module": "@jupyter-widgets/controls",
            "_view_module_version": "1.5.0",
            "_view_name": "ProgressView",
            "bar_style": "success",
            "description": "",
            "description_tooltip": null,
            "layout": "IPY_MODEL_0eddc76390774260a37ee05727406fff",
            "max": 48,
            "min": 0,
            "orientation": "horizontal",
            "style": "IPY_MODEL_48701fc3877a4ce9ab091d3e02dec655",
            "value": 48
          }
        },
        "4cdfcc8e27ae47bb80e5c2a83f890ae1": {
          "model_module": "@jupyter-widgets/controls",
          "model_name": "HTMLModel",
          "model_module_version": "1.5.0",
          "state": {
            "_dom_classes": [],
            "_model_module": "@jupyter-widgets/controls",
            "_model_module_version": "1.5.0",
            "_model_name": "HTMLModel",
            "_view_count": null,
            "_view_module": "@jupyter-widgets/controls",
            "_view_module_version": "1.5.0",
            "_view_name": "HTMLView",
            "description": "",
            "description_tooltip": null,
            "layout": "IPY_MODEL_988982aff9a240b4aa5eaecbc985fdc7",
            "placeholder": "​",
            "style": "IPY_MODEL_9eb4414905dc4afdb23334568955b21c",
            "value": " 48.0/48.0 [00:00&lt;00:00, 3.24kB/s]"
          }
        },
        "374f4ab7471f4187bb36dd50c26f0e36": {
          "model_module": "@jupyter-widgets/base",
          "model_name": "LayoutModel",
          "model_module_version": "1.2.0",
          "state": {
            "_model_module": "@jupyter-widgets/base",
            "_model_module_version": "1.2.0",
            "_model_name": "LayoutModel",
            "_view_count": null,
            "_view_module": "@jupyter-widgets/base",
            "_view_module_version": "1.2.0",
            "_view_name": "LayoutView",
            "align_content": null,
            "align_items": null,
            "align_self": null,
            "border": null,
            "bottom": null,
            "display": null,
            "flex": null,
            "flex_flow": null,
            "grid_area": null,
            "grid_auto_columns": null,
            "grid_auto_flow": null,
            "grid_auto_rows": null,
            "grid_column": null,
            "grid_gap": null,
            "grid_row": null,
            "grid_template_areas": null,
            "grid_template_columns": null,
            "grid_template_rows": null,
            "height": null,
            "justify_content": null,
            "justify_items": null,
            "left": null,
            "margin": null,
            "max_height": null,
            "max_width": null,
            "min_height": null,
            "min_width": null,
            "object_fit": null,
            "object_position": null,
            "order": null,
            "overflow": null,
            "overflow_x": null,
            "overflow_y": null,
            "padding": null,
            "right": null,
            "top": null,
            "visibility": null,
            "width": null
          }
        },
        "1911d27ec9aa4cf2b27f197e9840df4e": {
          "model_module": "@jupyter-widgets/base",
          "model_name": "LayoutModel",
          "model_module_version": "1.2.0",
          "state": {
            "_model_module": "@jupyter-widgets/base",
            "_model_module_version": "1.2.0",
            "_model_name": "LayoutModel",
            "_view_count": null,
            "_view_module": "@jupyter-widgets/base",
            "_view_module_version": "1.2.0",
            "_view_name": "LayoutView",
            "align_content": null,
            "align_items": null,
            "align_self": null,
            "border": null,
            "bottom": null,
            "display": null,
            "flex": null,
            "flex_flow": null,
            "grid_area": null,
            "grid_auto_columns": null,
            "grid_auto_flow": null,
            "grid_auto_rows": null,
            "grid_column": null,
            "grid_gap": null,
            "grid_row": null,
            "grid_template_areas": null,
            "grid_template_columns": null,
            "grid_template_rows": null,
            "height": null,
            "justify_content": null,
            "justify_items": null,
            "left": null,
            "margin": null,
            "max_height": null,
            "max_width": null,
            "min_height": null,
            "min_width": null,
            "object_fit": null,
            "object_position": null,
            "order": null,
            "overflow": null,
            "overflow_x": null,
            "overflow_y": null,
            "padding": null,
            "right": null,
            "top": null,
            "visibility": null,
            "width": null
          }
        },
        "765561684f1348c189aa03534e0fa76d": {
          "model_module": "@jupyter-widgets/controls",
          "model_name": "DescriptionStyleModel",
          "model_module_version": "1.5.0",
          "state": {
            "_model_module": "@jupyter-widgets/controls",
            "_model_module_version": "1.5.0",
            "_model_name": "DescriptionStyleModel",
            "_view_count": null,
            "_view_module": "@jupyter-widgets/base",
            "_view_module_version": "1.2.0",
            "_view_name": "StyleView",
            "description_width": ""
          }
        },
        "0eddc76390774260a37ee05727406fff": {
          "model_module": "@jupyter-widgets/base",
          "model_name": "LayoutModel",
          "model_module_version": "1.2.0",
          "state": {
            "_model_module": "@jupyter-widgets/base",
            "_model_module_version": "1.2.0",
            "_model_name": "LayoutModel",
            "_view_count": null,
            "_view_module": "@jupyter-widgets/base",
            "_view_module_version": "1.2.0",
            "_view_name": "LayoutView",
            "align_content": null,
            "align_items": null,
            "align_self": null,
            "border": null,
            "bottom": null,
            "display": null,
            "flex": null,
            "flex_flow": null,
            "grid_area": null,
            "grid_auto_columns": null,
            "grid_auto_flow": null,
            "grid_auto_rows": null,
            "grid_column": null,
            "grid_gap": null,
            "grid_row": null,
            "grid_template_areas": null,
            "grid_template_columns": null,
            "grid_template_rows": null,
            "height": null,
            "justify_content": null,
            "justify_items": null,
            "left": null,
            "margin": null,
            "max_height": null,
            "max_width": null,
            "min_height": null,
            "min_width": null,
            "object_fit": null,
            "object_position": null,
            "order": null,
            "overflow": null,
            "overflow_x": null,
            "overflow_y": null,
            "padding": null,
            "right": null,
            "top": null,
            "visibility": null,
            "width": null
          }
        },
        "48701fc3877a4ce9ab091d3e02dec655": {
          "model_module": "@jupyter-widgets/controls",
          "model_name": "ProgressStyleModel",
          "model_module_version": "1.5.0",
          "state": {
            "_model_module": "@jupyter-widgets/controls",
            "_model_module_version": "1.5.0",
            "_model_name": "ProgressStyleModel",
            "_view_count": null,
            "_view_module": "@jupyter-widgets/base",
            "_view_module_version": "1.2.0",
            "_view_name": "StyleView",
            "bar_color": null,
            "description_width": ""
          }
        },
        "988982aff9a240b4aa5eaecbc985fdc7": {
          "model_module": "@jupyter-widgets/base",
          "model_name": "LayoutModel",
          "model_module_version": "1.2.0",
          "state": {
            "_model_module": "@jupyter-widgets/base",
            "_model_module_version": "1.2.0",
            "_model_name": "LayoutModel",
            "_view_count": null,
            "_view_module": "@jupyter-widgets/base",
            "_view_module_version": "1.2.0",
            "_view_name": "LayoutView",
            "align_content": null,
            "align_items": null,
            "align_self": null,
            "border": null,
            "bottom": null,
            "display": null,
            "flex": null,
            "flex_flow": null,
            "grid_area": null,
            "grid_auto_columns": null,
            "grid_auto_flow": null,
            "grid_auto_rows": null,
            "grid_column": null,
            "grid_gap": null,
            "grid_row": null,
            "grid_template_areas": null,
            "grid_template_columns": null,
            "grid_template_rows": null,
            "height": null,
            "justify_content": null,
            "justify_items": null,
            "left": null,
            "margin": null,
            "max_height": null,
            "max_width": null,
            "min_height": null,
            "min_width": null,
            "object_fit": null,
            "object_position": null,
            "order": null,
            "overflow": null,
            "overflow_x": null,
            "overflow_y": null,
            "padding": null,
            "right": null,
            "top": null,
            "visibility": null,
            "width": null
          }
        },
        "9eb4414905dc4afdb23334568955b21c": {
          "model_module": "@jupyter-widgets/controls",
          "model_name": "DescriptionStyleModel",
          "model_module_version": "1.5.0",
          "state": {
            "_model_module": "@jupyter-widgets/controls",
            "_model_module_version": "1.5.0",
            "_model_name": "DescriptionStyleModel",
            "_view_count": null,
            "_view_module": "@jupyter-widgets/base",
            "_view_module_version": "1.2.0",
            "_view_name": "StyleView",
            "description_width": ""
          }
        },
        "3e1c70a60881456e9152e3279bf42e5a": {
          "model_module": "@jupyter-widgets/controls",
          "model_name": "HBoxModel",
          "model_module_version": "1.5.0",
          "state": {
            "_dom_classes": [],
            "_model_module": "@jupyter-widgets/controls",
            "_model_module_version": "1.5.0",
            "_model_name": "HBoxModel",
            "_view_count": null,
            "_view_module": "@jupyter-widgets/controls",
            "_view_module_version": "1.5.0",
            "_view_name": "HBoxView",
            "box_style": "",
            "children": [
              "IPY_MODEL_e533afd59ce24df18ef19ba167910be1",
              "IPY_MODEL_96ed1bbebe4b451cb088970aaff7c89e",
              "IPY_MODEL_30d01758d8f442a9bff839f6e7c80647"
            ],
            "layout": "IPY_MODEL_148c84b88af34bedbc56e3e1e5529416"
          }
        },
        "e533afd59ce24df18ef19ba167910be1": {
          "model_module": "@jupyter-widgets/controls",
          "model_name": "HTMLModel",
          "model_module_version": "1.5.0",
          "state": {
            "_dom_classes": [],
            "_model_module": "@jupyter-widgets/controls",
            "_model_module_version": "1.5.0",
            "_model_name": "HTMLModel",
            "_view_count": null,
            "_view_module": "@jupyter-widgets/controls",
            "_view_module_version": "1.5.0",
            "_view_name": "HTMLView",
            "description": "",
            "description_tooltip": null,
            "layout": "IPY_MODEL_b2f2702f81a84699871e8afd54036cca",
            "placeholder": "​",
            "style": "IPY_MODEL_d4d083596ef8401db13f406cf8e8aa13",
            "value": "vocab.txt: 100%"
          }
        },
        "96ed1bbebe4b451cb088970aaff7c89e": {
          "model_module": "@jupyter-widgets/controls",
          "model_name": "FloatProgressModel",
          "model_module_version": "1.5.0",
          "state": {
            "_dom_classes": [],
            "_model_module": "@jupyter-widgets/controls",
            "_model_module_version": "1.5.0",
            "_model_name": "FloatProgressModel",
            "_view_count": null,
            "_view_module": "@jupyter-widgets/controls",
            "_view_module_version": "1.5.0",
            "_view_name": "ProgressView",
            "bar_style": "success",
            "description": "",
            "description_tooltip": null,
            "layout": "IPY_MODEL_3f1f497bb15f489782ecd7b6e2a7bc86",
            "max": 231508,
            "min": 0,
            "orientation": "horizontal",
            "style": "IPY_MODEL_78992aa6ec1b4292958e628cee61b60a",
            "value": 231508
          }
        },
        "30d01758d8f442a9bff839f6e7c80647": {
          "model_module": "@jupyter-widgets/controls",
          "model_name": "HTMLModel",
          "model_module_version": "1.5.0",
          "state": {
            "_dom_classes": [],
            "_model_module": "@jupyter-widgets/controls",
            "_model_module_version": "1.5.0",
            "_model_name": "HTMLModel",
            "_view_count": null,
            "_view_module": "@jupyter-widgets/controls",
            "_view_module_version": "1.5.0",
            "_view_name": "HTMLView",
            "description": "",
            "description_tooltip": null,
            "layout": "IPY_MODEL_203b32b5fefc465e8fc726bdb330250e",
            "placeholder": "​",
            "style": "IPY_MODEL_e857acb1bd634998a3745976a993187b",
            "value": " 232k/232k [00:00&lt;00:00, 2.67MB/s]"
          }
        },
        "148c84b88af34bedbc56e3e1e5529416": {
          "model_module": "@jupyter-widgets/base",
          "model_name": "LayoutModel",
          "model_module_version": "1.2.0",
          "state": {
            "_model_module": "@jupyter-widgets/base",
            "_model_module_version": "1.2.0",
            "_model_name": "LayoutModel",
            "_view_count": null,
            "_view_module": "@jupyter-widgets/base",
            "_view_module_version": "1.2.0",
            "_view_name": "LayoutView",
            "align_content": null,
            "align_items": null,
            "align_self": null,
            "border": null,
            "bottom": null,
            "display": null,
            "flex": null,
            "flex_flow": null,
            "grid_area": null,
            "grid_auto_columns": null,
            "grid_auto_flow": null,
            "grid_auto_rows": null,
            "grid_column": null,
            "grid_gap": null,
            "grid_row": null,
            "grid_template_areas": null,
            "grid_template_columns": null,
            "grid_template_rows": null,
            "height": null,
            "justify_content": null,
            "justify_items": null,
            "left": null,
            "margin": null,
            "max_height": null,
            "max_width": null,
            "min_height": null,
            "min_width": null,
            "object_fit": null,
            "object_position": null,
            "order": null,
            "overflow": null,
            "overflow_x": null,
            "overflow_y": null,
            "padding": null,
            "right": null,
            "top": null,
            "visibility": null,
            "width": null
          }
        },
        "b2f2702f81a84699871e8afd54036cca": {
          "model_module": "@jupyter-widgets/base",
          "model_name": "LayoutModel",
          "model_module_version": "1.2.0",
          "state": {
            "_model_module": "@jupyter-widgets/base",
            "_model_module_version": "1.2.0",
            "_model_name": "LayoutModel",
            "_view_count": null,
            "_view_module": "@jupyter-widgets/base",
            "_view_module_version": "1.2.0",
            "_view_name": "LayoutView",
            "align_content": null,
            "align_items": null,
            "align_self": null,
            "border": null,
            "bottom": null,
            "display": null,
            "flex": null,
            "flex_flow": null,
            "grid_area": null,
            "grid_auto_columns": null,
            "grid_auto_flow": null,
            "grid_auto_rows": null,
            "grid_column": null,
            "grid_gap": null,
            "grid_row": null,
            "grid_template_areas": null,
            "grid_template_columns": null,
            "grid_template_rows": null,
            "height": null,
            "justify_content": null,
            "justify_items": null,
            "left": null,
            "margin": null,
            "max_height": null,
            "max_width": null,
            "min_height": null,
            "min_width": null,
            "object_fit": null,
            "object_position": null,
            "order": null,
            "overflow": null,
            "overflow_x": null,
            "overflow_y": null,
            "padding": null,
            "right": null,
            "top": null,
            "visibility": null,
            "width": null
          }
        },
        "d4d083596ef8401db13f406cf8e8aa13": {
          "model_module": "@jupyter-widgets/controls",
          "model_name": "DescriptionStyleModel",
          "model_module_version": "1.5.0",
          "state": {
            "_model_module": "@jupyter-widgets/controls",
            "_model_module_version": "1.5.0",
            "_model_name": "DescriptionStyleModel",
            "_view_count": null,
            "_view_module": "@jupyter-widgets/base",
            "_view_module_version": "1.2.0",
            "_view_name": "StyleView",
            "description_width": ""
          }
        },
        "3f1f497bb15f489782ecd7b6e2a7bc86": {
          "model_module": "@jupyter-widgets/base",
          "model_name": "LayoutModel",
          "model_module_version": "1.2.0",
          "state": {
            "_model_module": "@jupyter-widgets/base",
            "_model_module_version": "1.2.0",
            "_model_name": "LayoutModel",
            "_view_count": null,
            "_view_module": "@jupyter-widgets/base",
            "_view_module_version": "1.2.0",
            "_view_name": "LayoutView",
            "align_content": null,
            "align_items": null,
            "align_self": null,
            "border": null,
            "bottom": null,
            "display": null,
            "flex": null,
            "flex_flow": null,
            "grid_area": null,
            "grid_auto_columns": null,
            "grid_auto_flow": null,
            "grid_auto_rows": null,
            "grid_column": null,
            "grid_gap": null,
            "grid_row": null,
            "grid_template_areas": null,
            "grid_template_columns": null,
            "grid_template_rows": null,
            "height": null,
            "justify_content": null,
            "justify_items": null,
            "left": null,
            "margin": null,
            "max_height": null,
            "max_width": null,
            "min_height": null,
            "min_width": null,
            "object_fit": null,
            "object_position": null,
            "order": null,
            "overflow": null,
            "overflow_x": null,
            "overflow_y": null,
            "padding": null,
            "right": null,
            "top": null,
            "visibility": null,
            "width": null
          }
        },
        "78992aa6ec1b4292958e628cee61b60a": {
          "model_module": "@jupyter-widgets/controls",
          "model_name": "ProgressStyleModel",
          "model_module_version": "1.5.0",
          "state": {
            "_model_module": "@jupyter-widgets/controls",
            "_model_module_version": "1.5.0",
            "_model_name": "ProgressStyleModel",
            "_view_count": null,
            "_view_module": "@jupyter-widgets/base",
            "_view_module_version": "1.2.0",
            "_view_name": "StyleView",
            "bar_color": null,
            "description_width": ""
          }
        },
        "203b32b5fefc465e8fc726bdb330250e": {
          "model_module": "@jupyter-widgets/base",
          "model_name": "LayoutModel",
          "model_module_version": "1.2.0",
          "state": {
            "_model_module": "@jupyter-widgets/base",
            "_model_module_version": "1.2.0",
            "_model_name": "LayoutModel",
            "_view_count": null,
            "_view_module": "@jupyter-widgets/base",
            "_view_module_version": "1.2.0",
            "_view_name": "LayoutView",
            "align_content": null,
            "align_items": null,
            "align_self": null,
            "border": null,
            "bottom": null,
            "display": null,
            "flex": null,
            "flex_flow": null,
            "grid_area": null,
            "grid_auto_columns": null,
            "grid_auto_flow": null,
            "grid_auto_rows": null,
            "grid_column": null,
            "grid_gap": null,
            "grid_row": null,
            "grid_template_areas": null,
            "grid_template_columns": null,
            "grid_template_rows": null,
            "height": null,
            "justify_content": null,
            "justify_items": null,
            "left": null,
            "margin": null,
            "max_height": null,
            "max_width": null,
            "min_height": null,
            "min_width": null,
            "object_fit": null,
            "object_position": null,
            "order": null,
            "overflow": null,
            "overflow_x": null,
            "overflow_y": null,
            "padding": null,
            "right": null,
            "top": null,
            "visibility": null,
            "width": null
          }
        },
        "e857acb1bd634998a3745976a993187b": {
          "model_module": "@jupyter-widgets/controls",
          "model_name": "DescriptionStyleModel",
          "model_module_version": "1.5.0",
          "state": {
            "_model_module": "@jupyter-widgets/controls",
            "_model_module_version": "1.5.0",
            "_model_name": "DescriptionStyleModel",
            "_view_count": null,
            "_view_module": "@jupyter-widgets/base",
            "_view_module_version": "1.2.0",
            "_view_name": "StyleView",
            "description_width": ""
          }
        },
        "79d09e8c080641c69b0859cdf37ee6c6": {
          "model_module": "@jupyter-widgets/controls",
          "model_name": "HBoxModel",
          "model_module_version": "1.5.0",
          "state": {
            "_dom_classes": [],
            "_model_module": "@jupyter-widgets/controls",
            "_model_module_version": "1.5.0",
            "_model_name": "HBoxModel",
            "_view_count": null,
            "_view_module": "@jupyter-widgets/controls",
            "_view_module_version": "1.5.0",
            "_view_name": "HBoxView",
            "box_style": "",
            "children": [
              "IPY_MODEL_6f1e29afa2ba47a1b5c4c282f8f201a0",
              "IPY_MODEL_7a920c1b42f548c7a42017e15f6fea18",
              "IPY_MODEL_a03a0157c60b47869ca20262f8fe84d7"
            ],
            "layout": "IPY_MODEL_fe3973706f3a46d09a76371564787e01"
          }
        },
        "6f1e29afa2ba47a1b5c4c282f8f201a0": {
          "model_module": "@jupyter-widgets/controls",
          "model_name": "HTMLModel",
          "model_module_version": "1.5.0",
          "state": {
            "_dom_classes": [],
            "_model_module": "@jupyter-widgets/controls",
            "_model_module_version": "1.5.0",
            "_model_name": "HTMLModel",
            "_view_count": null,
            "_view_module": "@jupyter-widgets/controls",
            "_view_module_version": "1.5.0",
            "_view_name": "HTMLView",
            "description": "",
            "description_tooltip": null,
            "layout": "IPY_MODEL_a9e837d1976642fdacc49ef5f8112efe",
            "placeholder": "​",
            "style": "IPY_MODEL_cc61620b4e544145bbd7e61595923e49",
            "value": "tokenizer.json: 100%"
          }
        },
        "7a920c1b42f548c7a42017e15f6fea18": {
          "model_module": "@jupyter-widgets/controls",
          "model_name": "FloatProgressModel",
          "model_module_version": "1.5.0",
          "state": {
            "_dom_classes": [],
            "_model_module": "@jupyter-widgets/controls",
            "_model_module_version": "1.5.0",
            "_model_name": "FloatProgressModel",
            "_view_count": null,
            "_view_module": "@jupyter-widgets/controls",
            "_view_module_version": "1.5.0",
            "_view_name": "ProgressView",
            "bar_style": "success",
            "description": "",
            "description_tooltip": null,
            "layout": "IPY_MODEL_fa586214e67d49fabc68bd8cae244a91",
            "max": 466062,
            "min": 0,
            "orientation": "horizontal",
            "style": "IPY_MODEL_4f9079df6d5b43b89a5946fe7a586a3e",
            "value": 466062
          }
        },
        "a03a0157c60b47869ca20262f8fe84d7": {
          "model_module": "@jupyter-widgets/controls",
          "model_name": "HTMLModel",
          "model_module_version": "1.5.0",
          "state": {
            "_dom_classes": [],
            "_model_module": "@jupyter-widgets/controls",
            "_model_module_version": "1.5.0",
            "_model_name": "HTMLModel",
            "_view_count": null,
            "_view_module": "@jupyter-widgets/controls",
            "_view_module_version": "1.5.0",
            "_view_name": "HTMLView",
            "description": "",
            "description_tooltip": null,
            "layout": "IPY_MODEL_9f30341ade7d497a86302c1532becdca",
            "placeholder": "​",
            "style": "IPY_MODEL_e6f43f6c57ae4b6393abd9569bef0ebf",
            "value": " 466k/466k [00:00&lt;00:00, 2.66MB/s]"
          }
        },
        "fe3973706f3a46d09a76371564787e01": {
          "model_module": "@jupyter-widgets/base",
          "model_name": "LayoutModel",
          "model_module_version": "1.2.0",
          "state": {
            "_model_module": "@jupyter-widgets/base",
            "_model_module_version": "1.2.0",
            "_model_name": "LayoutModel",
            "_view_count": null,
            "_view_module": "@jupyter-widgets/base",
            "_view_module_version": "1.2.0",
            "_view_name": "LayoutView",
            "align_content": null,
            "align_items": null,
            "align_self": null,
            "border": null,
            "bottom": null,
            "display": null,
            "flex": null,
            "flex_flow": null,
            "grid_area": null,
            "grid_auto_columns": null,
            "grid_auto_flow": null,
            "grid_auto_rows": null,
            "grid_column": null,
            "grid_gap": null,
            "grid_row": null,
            "grid_template_areas": null,
            "grid_template_columns": null,
            "grid_template_rows": null,
            "height": null,
            "justify_content": null,
            "justify_items": null,
            "left": null,
            "margin": null,
            "max_height": null,
            "max_width": null,
            "min_height": null,
            "min_width": null,
            "object_fit": null,
            "object_position": null,
            "order": null,
            "overflow": null,
            "overflow_x": null,
            "overflow_y": null,
            "padding": null,
            "right": null,
            "top": null,
            "visibility": null,
            "width": null
          }
        },
        "a9e837d1976642fdacc49ef5f8112efe": {
          "model_module": "@jupyter-widgets/base",
          "model_name": "LayoutModel",
          "model_module_version": "1.2.0",
          "state": {
            "_model_module": "@jupyter-widgets/base",
            "_model_module_version": "1.2.0",
            "_model_name": "LayoutModel",
            "_view_count": null,
            "_view_module": "@jupyter-widgets/base",
            "_view_module_version": "1.2.0",
            "_view_name": "LayoutView",
            "align_content": null,
            "align_items": null,
            "align_self": null,
            "border": null,
            "bottom": null,
            "display": null,
            "flex": null,
            "flex_flow": null,
            "grid_area": null,
            "grid_auto_columns": null,
            "grid_auto_flow": null,
            "grid_auto_rows": null,
            "grid_column": null,
            "grid_gap": null,
            "grid_row": null,
            "grid_template_areas": null,
            "grid_template_columns": null,
            "grid_template_rows": null,
            "height": null,
            "justify_content": null,
            "justify_items": null,
            "left": null,
            "margin": null,
            "max_height": null,
            "max_width": null,
            "min_height": null,
            "min_width": null,
            "object_fit": null,
            "object_position": null,
            "order": null,
            "overflow": null,
            "overflow_x": null,
            "overflow_y": null,
            "padding": null,
            "right": null,
            "top": null,
            "visibility": null,
            "width": null
          }
        },
        "cc61620b4e544145bbd7e61595923e49": {
          "model_module": "@jupyter-widgets/controls",
          "model_name": "DescriptionStyleModel",
          "model_module_version": "1.5.0",
          "state": {
            "_model_module": "@jupyter-widgets/controls",
            "_model_module_version": "1.5.0",
            "_model_name": "DescriptionStyleModel",
            "_view_count": null,
            "_view_module": "@jupyter-widgets/base",
            "_view_module_version": "1.2.0",
            "_view_name": "StyleView",
            "description_width": ""
          }
        },
        "fa586214e67d49fabc68bd8cae244a91": {
          "model_module": "@jupyter-widgets/base",
          "model_name": "LayoutModel",
          "model_module_version": "1.2.0",
          "state": {
            "_model_module": "@jupyter-widgets/base",
            "_model_module_version": "1.2.0",
            "_model_name": "LayoutModel",
            "_view_count": null,
            "_view_module": "@jupyter-widgets/base",
            "_view_module_version": "1.2.0",
            "_view_name": "LayoutView",
            "align_content": null,
            "align_items": null,
            "align_self": null,
            "border": null,
            "bottom": null,
            "display": null,
            "flex": null,
            "flex_flow": null,
            "grid_area": null,
            "grid_auto_columns": null,
            "grid_auto_flow": null,
            "grid_auto_rows": null,
            "grid_column": null,
            "grid_gap": null,
            "grid_row": null,
            "grid_template_areas": null,
            "grid_template_columns": null,
            "grid_template_rows": null,
            "height": null,
            "justify_content": null,
            "justify_items": null,
            "left": null,
            "margin": null,
            "max_height": null,
            "max_width": null,
            "min_height": null,
            "min_width": null,
            "object_fit": null,
            "object_position": null,
            "order": null,
            "overflow": null,
            "overflow_x": null,
            "overflow_y": null,
            "padding": null,
            "right": null,
            "top": null,
            "visibility": null,
            "width": null
          }
        },
        "4f9079df6d5b43b89a5946fe7a586a3e": {
          "model_module": "@jupyter-widgets/controls",
          "model_name": "ProgressStyleModel",
          "model_module_version": "1.5.0",
          "state": {
            "_model_module": "@jupyter-widgets/controls",
            "_model_module_version": "1.5.0",
            "_model_name": "ProgressStyleModel",
            "_view_count": null,
            "_view_module": "@jupyter-widgets/base",
            "_view_module_version": "1.2.0",
            "_view_name": "StyleView",
            "bar_color": null,
            "description_width": ""
          }
        },
        "9f30341ade7d497a86302c1532becdca": {
          "model_module": "@jupyter-widgets/base",
          "model_name": "LayoutModel",
          "model_module_version": "1.2.0",
          "state": {
            "_model_module": "@jupyter-widgets/base",
            "_model_module_version": "1.2.0",
            "_model_name": "LayoutModel",
            "_view_count": null,
            "_view_module": "@jupyter-widgets/base",
            "_view_module_version": "1.2.0",
            "_view_name": "LayoutView",
            "align_content": null,
            "align_items": null,
            "align_self": null,
            "border": null,
            "bottom": null,
            "display": null,
            "flex": null,
            "flex_flow": null,
            "grid_area": null,
            "grid_auto_columns": null,
            "grid_auto_flow": null,
            "grid_auto_rows": null,
            "grid_column": null,
            "grid_gap": null,
            "grid_row": null,
            "grid_template_areas": null,
            "grid_template_columns": null,
            "grid_template_rows": null,
            "height": null,
            "justify_content": null,
            "justify_items": null,
            "left": null,
            "margin": null,
            "max_height": null,
            "max_width": null,
            "min_height": null,
            "min_width": null,
            "object_fit": null,
            "object_position": null,
            "order": null,
            "overflow": null,
            "overflow_x": null,
            "overflow_y": null,
            "padding": null,
            "right": null,
            "top": null,
            "visibility": null,
            "width": null
          }
        },
        "e6f43f6c57ae4b6393abd9569bef0ebf": {
          "model_module": "@jupyter-widgets/controls",
          "model_name": "DescriptionStyleModel",
          "model_module_version": "1.5.0",
          "state": {
            "_model_module": "@jupyter-widgets/controls",
            "_model_module_version": "1.5.0",
            "_model_name": "DescriptionStyleModel",
            "_view_count": null,
            "_view_module": "@jupyter-widgets/base",
            "_view_module_version": "1.2.0",
            "_view_name": "StyleView",
            "description_width": ""
          }
        },
        "e5de53405cee492fafa98440d870de0a": {
          "model_module": "@jupyter-widgets/controls",
          "model_name": "HBoxModel",
          "model_module_version": "1.5.0",
          "state": {
            "_dom_classes": [],
            "_model_module": "@jupyter-widgets/controls",
            "_model_module_version": "1.5.0",
            "_model_name": "HBoxModel",
            "_view_count": null,
            "_view_module": "@jupyter-widgets/controls",
            "_view_module_version": "1.5.0",
            "_view_name": "HBoxView",
            "box_style": "",
            "children": [
              "IPY_MODEL_1047e774aa444032b994421d2c5f54fa",
              "IPY_MODEL_c3deb8a1936a472c95be299d388017e1",
              "IPY_MODEL_8ec61f9c63b4424f93affbcf0780a83b"
            ],
            "layout": "IPY_MODEL_15036229123f4628a547077c507cfd56"
          }
        },
        "1047e774aa444032b994421d2c5f54fa": {
          "model_module": "@jupyter-widgets/controls",
          "model_name": "HTMLModel",
          "model_module_version": "1.5.0",
          "state": {
            "_dom_classes": [],
            "_model_module": "@jupyter-widgets/controls",
            "_model_module_version": "1.5.0",
            "_model_name": "HTMLModel",
            "_view_count": null,
            "_view_module": "@jupyter-widgets/controls",
            "_view_module_version": "1.5.0",
            "_view_name": "HTMLView",
            "description": "",
            "description_tooltip": null,
            "layout": "IPY_MODEL_d33e25e62bf94d7f95c22c0d9d1c6837",
            "placeholder": "​",
            "style": "IPY_MODEL_fb64d522af584dff9c3ae6a6c237a1aa",
            "value": "config.json: 100%"
          }
        },
        "c3deb8a1936a472c95be299d388017e1": {
          "model_module": "@jupyter-widgets/controls",
          "model_name": "FloatProgressModel",
          "model_module_version": "1.5.0",
          "state": {
            "_dom_classes": [],
            "_model_module": "@jupyter-widgets/controls",
            "_model_module_version": "1.5.0",
            "_model_name": "FloatProgressModel",
            "_view_count": null,
            "_view_module": "@jupyter-widgets/controls",
            "_view_module_version": "1.5.0",
            "_view_name": "ProgressView",
            "bar_style": "success",
            "description": "",
            "description_tooltip": null,
            "layout": "IPY_MODEL_20f45b13373a431996e4763bddd6e4de",
            "max": 570,
            "min": 0,
            "orientation": "horizontal",
            "style": "IPY_MODEL_4c78363ec64e48869e60e40af14fe1cb",
            "value": 570
          }
        },
        "8ec61f9c63b4424f93affbcf0780a83b": {
          "model_module": "@jupyter-widgets/controls",
          "model_name": "HTMLModel",
          "model_module_version": "1.5.0",
          "state": {
            "_dom_classes": [],
            "_model_module": "@jupyter-widgets/controls",
            "_model_module_version": "1.5.0",
            "_model_name": "HTMLModel",
            "_view_count": null,
            "_view_module": "@jupyter-widgets/controls",
            "_view_module_version": "1.5.0",
            "_view_name": "HTMLView",
            "description": "",
            "description_tooltip": null,
            "layout": "IPY_MODEL_bbec1732df02483db52a168c7f76fcc7",
            "placeholder": "​",
            "style": "IPY_MODEL_361351e36c54428eb2666458be9d6466",
            "value": " 570/570 [00:00&lt;00:00, 39.7kB/s]"
          }
        },
        "15036229123f4628a547077c507cfd56": {
          "model_module": "@jupyter-widgets/base",
          "model_name": "LayoutModel",
          "model_module_version": "1.2.0",
          "state": {
            "_model_module": "@jupyter-widgets/base",
            "_model_module_version": "1.2.0",
            "_model_name": "LayoutModel",
            "_view_count": null,
            "_view_module": "@jupyter-widgets/base",
            "_view_module_version": "1.2.0",
            "_view_name": "LayoutView",
            "align_content": null,
            "align_items": null,
            "align_self": null,
            "border": null,
            "bottom": null,
            "display": null,
            "flex": null,
            "flex_flow": null,
            "grid_area": null,
            "grid_auto_columns": null,
            "grid_auto_flow": null,
            "grid_auto_rows": null,
            "grid_column": null,
            "grid_gap": null,
            "grid_row": null,
            "grid_template_areas": null,
            "grid_template_columns": null,
            "grid_template_rows": null,
            "height": null,
            "justify_content": null,
            "justify_items": null,
            "left": null,
            "margin": null,
            "max_height": null,
            "max_width": null,
            "min_height": null,
            "min_width": null,
            "object_fit": null,
            "object_position": null,
            "order": null,
            "overflow": null,
            "overflow_x": null,
            "overflow_y": null,
            "padding": null,
            "right": null,
            "top": null,
            "visibility": null,
            "width": null
          }
        },
        "d33e25e62bf94d7f95c22c0d9d1c6837": {
          "model_module": "@jupyter-widgets/base",
          "model_name": "LayoutModel",
          "model_module_version": "1.2.0",
          "state": {
            "_model_module": "@jupyter-widgets/base",
            "_model_module_version": "1.2.0",
            "_model_name": "LayoutModel",
            "_view_count": null,
            "_view_module": "@jupyter-widgets/base",
            "_view_module_version": "1.2.0",
            "_view_name": "LayoutView",
            "align_content": null,
            "align_items": null,
            "align_self": null,
            "border": null,
            "bottom": null,
            "display": null,
            "flex": null,
            "flex_flow": null,
            "grid_area": null,
            "grid_auto_columns": null,
            "grid_auto_flow": null,
            "grid_auto_rows": null,
            "grid_column": null,
            "grid_gap": null,
            "grid_row": null,
            "grid_template_areas": null,
            "grid_template_columns": null,
            "grid_template_rows": null,
            "height": null,
            "justify_content": null,
            "justify_items": null,
            "left": null,
            "margin": null,
            "max_height": null,
            "max_width": null,
            "min_height": null,
            "min_width": null,
            "object_fit": null,
            "object_position": null,
            "order": null,
            "overflow": null,
            "overflow_x": null,
            "overflow_y": null,
            "padding": null,
            "right": null,
            "top": null,
            "visibility": null,
            "width": null
          }
        },
        "fb64d522af584dff9c3ae6a6c237a1aa": {
          "model_module": "@jupyter-widgets/controls",
          "model_name": "DescriptionStyleModel",
          "model_module_version": "1.5.0",
          "state": {
            "_model_module": "@jupyter-widgets/controls",
            "_model_module_version": "1.5.0",
            "_model_name": "DescriptionStyleModel",
            "_view_count": null,
            "_view_module": "@jupyter-widgets/base",
            "_view_module_version": "1.2.0",
            "_view_name": "StyleView",
            "description_width": ""
          }
        },
        "20f45b13373a431996e4763bddd6e4de": {
          "model_module": "@jupyter-widgets/base",
          "model_name": "LayoutModel",
          "model_module_version": "1.2.0",
          "state": {
            "_model_module": "@jupyter-widgets/base",
            "_model_module_version": "1.2.0",
            "_model_name": "LayoutModel",
            "_view_count": null,
            "_view_module": "@jupyter-widgets/base",
            "_view_module_version": "1.2.0",
            "_view_name": "LayoutView",
            "align_content": null,
            "align_items": null,
            "align_self": null,
            "border": null,
            "bottom": null,
            "display": null,
            "flex": null,
            "flex_flow": null,
            "grid_area": null,
            "grid_auto_columns": null,
            "grid_auto_flow": null,
            "grid_auto_rows": null,
            "grid_column": null,
            "grid_gap": null,
            "grid_row": null,
            "grid_template_areas": null,
            "grid_template_columns": null,
            "grid_template_rows": null,
            "height": null,
            "justify_content": null,
            "justify_items": null,
            "left": null,
            "margin": null,
            "max_height": null,
            "max_width": null,
            "min_height": null,
            "min_width": null,
            "object_fit": null,
            "object_position": null,
            "order": null,
            "overflow": null,
            "overflow_x": null,
            "overflow_y": null,
            "padding": null,
            "right": null,
            "top": null,
            "visibility": null,
            "width": null
          }
        },
        "4c78363ec64e48869e60e40af14fe1cb": {
          "model_module": "@jupyter-widgets/controls",
          "model_name": "ProgressStyleModel",
          "model_module_version": "1.5.0",
          "state": {
            "_model_module": "@jupyter-widgets/controls",
            "_model_module_version": "1.5.0",
            "_model_name": "ProgressStyleModel",
            "_view_count": null,
            "_view_module": "@jupyter-widgets/base",
            "_view_module_version": "1.2.0",
            "_view_name": "StyleView",
            "bar_color": null,
            "description_width": ""
          }
        },
        "bbec1732df02483db52a168c7f76fcc7": {
          "model_module": "@jupyter-widgets/base",
          "model_name": "LayoutModel",
          "model_module_version": "1.2.0",
          "state": {
            "_model_module": "@jupyter-widgets/base",
            "_model_module_version": "1.2.0",
            "_model_name": "LayoutModel",
            "_view_count": null,
            "_view_module": "@jupyter-widgets/base",
            "_view_module_version": "1.2.0",
            "_view_name": "LayoutView",
            "align_content": null,
            "align_items": null,
            "align_self": null,
            "border": null,
            "bottom": null,
            "display": null,
            "flex": null,
            "flex_flow": null,
            "grid_area": null,
            "grid_auto_columns": null,
            "grid_auto_flow": null,
            "grid_auto_rows": null,
            "grid_column": null,
            "grid_gap": null,
            "grid_row": null,
            "grid_template_areas": null,
            "grid_template_columns": null,
            "grid_template_rows": null,
            "height": null,
            "justify_content": null,
            "justify_items": null,
            "left": null,
            "margin": null,
            "max_height": null,
            "max_width": null,
            "min_height": null,
            "min_width": null,
            "object_fit": null,
            "object_position": null,
            "order": null,
            "overflow": null,
            "overflow_x": null,
            "overflow_y": null,
            "padding": null,
            "right": null,
            "top": null,
            "visibility": null,
            "width": null
          }
        },
        "361351e36c54428eb2666458be9d6466": {
          "model_module": "@jupyter-widgets/controls",
          "model_name": "DescriptionStyleModel",
          "model_module_version": "1.5.0",
          "state": {
            "_model_module": "@jupyter-widgets/controls",
            "_model_module_version": "1.5.0",
            "_model_name": "DescriptionStyleModel",
            "_view_count": null,
            "_view_module": "@jupyter-widgets/base",
            "_view_module_version": "1.2.0",
            "_view_name": "StyleView",
            "description_width": ""
          }
        },
        "7dd3458965bb403ea857ed43198ad260": {
          "model_module": "@jupyter-widgets/controls",
          "model_name": "HBoxModel",
          "model_module_version": "1.5.0",
          "state": {
            "_dom_classes": [],
            "_model_module": "@jupyter-widgets/controls",
            "_model_module_version": "1.5.0",
            "_model_name": "HBoxModel",
            "_view_count": null,
            "_view_module": "@jupyter-widgets/controls",
            "_view_module_version": "1.5.0",
            "_view_name": "HBoxView",
            "box_style": "",
            "children": [
              "IPY_MODEL_c6b5bb2410d143778c636e1f78730875",
              "IPY_MODEL_ab0b6a4b0fe44689a0da4bd4d336c3cf",
              "IPY_MODEL_db642daff7484b9f80d7f4dc9e4fa7e3"
            ],
            "layout": "IPY_MODEL_f31d506349bc43b2b4a632b56035ff8c"
          }
        },
        "c6b5bb2410d143778c636e1f78730875": {
          "model_module": "@jupyter-widgets/controls",
          "model_name": "HTMLModel",
          "model_module_version": "1.5.0",
          "state": {
            "_dom_classes": [],
            "_model_module": "@jupyter-widgets/controls",
            "_model_module_version": "1.5.0",
            "_model_name": "HTMLModel",
            "_view_count": null,
            "_view_module": "@jupyter-widgets/controls",
            "_view_module_version": "1.5.0",
            "_view_name": "HTMLView",
            "description": "",
            "description_tooltip": null,
            "layout": "IPY_MODEL_996094987eae4ca8a847e79a279695c2",
            "placeholder": "​",
            "style": "IPY_MODEL_d02acc22a6884b6f9335567a9a9cf6c1",
            "value": "model.safetensors: 100%"
          }
        },
        "ab0b6a4b0fe44689a0da4bd4d336c3cf": {
          "model_module": "@jupyter-widgets/controls",
          "model_name": "FloatProgressModel",
          "model_module_version": "1.5.0",
          "state": {
            "_dom_classes": [],
            "_model_module": "@jupyter-widgets/controls",
            "_model_module_version": "1.5.0",
            "_model_name": "FloatProgressModel",
            "_view_count": null,
            "_view_module": "@jupyter-widgets/controls",
            "_view_module_version": "1.5.0",
            "_view_name": "ProgressView",
            "bar_style": "success",
            "description": "",
            "description_tooltip": null,
            "layout": "IPY_MODEL_4a1dd6da11044870ac2ab7e32fd54662",
            "max": 440449768,
            "min": 0,
            "orientation": "horizontal",
            "style": "IPY_MODEL_7f1127112cc743f38514124da738a94e",
            "value": 440449768
          }
        },
        "db642daff7484b9f80d7f4dc9e4fa7e3": {
          "model_module": "@jupyter-widgets/controls",
          "model_name": "HTMLModel",
          "model_module_version": "1.5.0",
          "state": {
            "_dom_classes": [],
            "_model_module": "@jupyter-widgets/controls",
            "_model_module_version": "1.5.0",
            "_model_name": "HTMLModel",
            "_view_count": null,
            "_view_module": "@jupyter-widgets/controls",
            "_view_module_version": "1.5.0",
            "_view_name": "HTMLView",
            "description": "",
            "description_tooltip": null,
            "layout": "IPY_MODEL_1a11be4ebfb1462bb76a1b391355fe61",
            "placeholder": "​",
            "style": "IPY_MODEL_c5047e8db6374f28bbbaed5a030f4135",
            "value": " 440M/440M [00:05&lt;00:00, 80.6MB/s]"
          }
        },
        "f31d506349bc43b2b4a632b56035ff8c": {
          "model_module": "@jupyter-widgets/base",
          "model_name": "LayoutModel",
          "model_module_version": "1.2.0",
          "state": {
            "_model_module": "@jupyter-widgets/base",
            "_model_module_version": "1.2.0",
            "_model_name": "LayoutModel",
            "_view_count": null,
            "_view_module": "@jupyter-widgets/base",
            "_view_module_version": "1.2.0",
            "_view_name": "LayoutView",
            "align_content": null,
            "align_items": null,
            "align_self": null,
            "border": null,
            "bottom": null,
            "display": null,
            "flex": null,
            "flex_flow": null,
            "grid_area": null,
            "grid_auto_columns": null,
            "grid_auto_flow": null,
            "grid_auto_rows": null,
            "grid_column": null,
            "grid_gap": null,
            "grid_row": null,
            "grid_template_areas": null,
            "grid_template_columns": null,
            "grid_template_rows": null,
            "height": null,
            "justify_content": null,
            "justify_items": null,
            "left": null,
            "margin": null,
            "max_height": null,
            "max_width": null,
            "min_height": null,
            "min_width": null,
            "object_fit": null,
            "object_position": null,
            "order": null,
            "overflow": null,
            "overflow_x": null,
            "overflow_y": null,
            "padding": null,
            "right": null,
            "top": null,
            "visibility": null,
            "width": null
          }
        },
        "996094987eae4ca8a847e79a279695c2": {
          "model_module": "@jupyter-widgets/base",
          "model_name": "LayoutModel",
          "model_module_version": "1.2.0",
          "state": {
            "_model_module": "@jupyter-widgets/base",
            "_model_module_version": "1.2.0",
            "_model_name": "LayoutModel",
            "_view_count": null,
            "_view_module": "@jupyter-widgets/base",
            "_view_module_version": "1.2.0",
            "_view_name": "LayoutView",
            "align_content": null,
            "align_items": null,
            "align_self": null,
            "border": null,
            "bottom": null,
            "display": null,
            "flex": null,
            "flex_flow": null,
            "grid_area": null,
            "grid_auto_columns": null,
            "grid_auto_flow": null,
            "grid_auto_rows": null,
            "grid_column": null,
            "grid_gap": null,
            "grid_row": null,
            "grid_template_areas": null,
            "grid_template_columns": null,
            "grid_template_rows": null,
            "height": null,
            "justify_content": null,
            "justify_items": null,
            "left": null,
            "margin": null,
            "max_height": null,
            "max_width": null,
            "min_height": null,
            "min_width": null,
            "object_fit": null,
            "object_position": null,
            "order": null,
            "overflow": null,
            "overflow_x": null,
            "overflow_y": null,
            "padding": null,
            "right": null,
            "top": null,
            "visibility": null,
            "width": null
          }
        },
        "d02acc22a6884b6f9335567a9a9cf6c1": {
          "model_module": "@jupyter-widgets/controls",
          "model_name": "DescriptionStyleModel",
          "model_module_version": "1.5.0",
          "state": {
            "_model_module": "@jupyter-widgets/controls",
            "_model_module_version": "1.5.0",
            "_model_name": "DescriptionStyleModel",
            "_view_count": null,
            "_view_module": "@jupyter-widgets/base",
            "_view_module_version": "1.2.0",
            "_view_name": "StyleView",
            "description_width": ""
          }
        },
        "4a1dd6da11044870ac2ab7e32fd54662": {
          "model_module": "@jupyter-widgets/base",
          "model_name": "LayoutModel",
          "model_module_version": "1.2.0",
          "state": {
            "_model_module": "@jupyter-widgets/base",
            "_model_module_version": "1.2.0",
            "_model_name": "LayoutModel",
            "_view_count": null,
            "_view_module": "@jupyter-widgets/base",
            "_view_module_version": "1.2.0",
            "_view_name": "LayoutView",
            "align_content": null,
            "align_items": null,
            "align_self": null,
            "border": null,
            "bottom": null,
            "display": null,
            "flex": null,
            "flex_flow": null,
            "grid_area": null,
            "grid_auto_columns": null,
            "grid_auto_flow": null,
            "grid_auto_rows": null,
            "grid_column": null,
            "grid_gap": null,
            "grid_row": null,
            "grid_template_areas": null,
            "grid_template_columns": null,
            "grid_template_rows": null,
            "height": null,
            "justify_content": null,
            "justify_items": null,
            "left": null,
            "margin": null,
            "max_height": null,
            "max_width": null,
            "min_height": null,
            "min_width": null,
            "object_fit": null,
            "object_position": null,
            "order": null,
            "overflow": null,
            "overflow_x": null,
            "overflow_y": null,
            "padding": null,
            "right": null,
            "top": null,
            "visibility": null,
            "width": null
          }
        },
        "7f1127112cc743f38514124da738a94e": {
          "model_module": "@jupyter-widgets/controls",
          "model_name": "ProgressStyleModel",
          "model_module_version": "1.5.0",
          "state": {
            "_model_module": "@jupyter-widgets/controls",
            "_model_module_version": "1.5.0",
            "_model_name": "ProgressStyleModel",
            "_view_count": null,
            "_view_module": "@jupyter-widgets/base",
            "_view_module_version": "1.2.0",
            "_view_name": "StyleView",
            "bar_color": null,
            "description_width": ""
          }
        },
        "1a11be4ebfb1462bb76a1b391355fe61": {
          "model_module": "@jupyter-widgets/base",
          "model_name": "LayoutModel",
          "model_module_version": "1.2.0",
          "state": {
            "_model_module": "@jupyter-widgets/base",
            "_model_module_version": "1.2.0",
            "_model_name": "LayoutModel",
            "_view_count": null,
            "_view_module": "@jupyter-widgets/base",
            "_view_module_version": "1.2.0",
            "_view_name": "LayoutView",
            "align_content": null,
            "align_items": null,
            "align_self": null,
            "border": null,
            "bottom": null,
            "display": null,
            "flex": null,
            "flex_flow": null,
            "grid_area": null,
            "grid_auto_columns": null,
            "grid_auto_flow": null,
            "grid_auto_rows": null,
            "grid_column": null,
            "grid_gap": null,
            "grid_row": null,
            "grid_template_areas": null,
            "grid_template_columns": null,
            "grid_template_rows": null,
            "height": null,
            "justify_content": null,
            "justify_items": null,
            "left": null,
            "margin": null,
            "max_height": null,
            "max_width": null,
            "min_height": null,
            "min_width": null,
            "object_fit": null,
            "object_position": null,
            "order": null,
            "overflow": null,
            "overflow_x": null,
            "overflow_y": null,
            "padding": null,
            "right": null,
            "top": null,
            "visibility": null,
            "width": null
          }
        },
        "c5047e8db6374f28bbbaed5a030f4135": {
          "model_module": "@jupyter-widgets/controls",
          "model_name": "DescriptionStyleModel",
          "model_module_version": "1.5.0",
          "state": {
            "_model_module": "@jupyter-widgets/controls",
            "_model_module_version": "1.5.0",
            "_model_name": "DescriptionStyleModel",
            "_view_count": null,
            "_view_module": "@jupyter-widgets/base",
            "_view_module_version": "1.2.0",
            "_view_name": "StyleView",
            "description_width": ""
          }
        },
        "23da880e1ce644fbaf79fa1d7ec5d71a": {
          "model_module": "@jupyter-widgets/controls",
          "model_name": "HBoxModel",
          "model_module_version": "1.5.0",
          "state": {
            "_dom_classes": [],
            "_model_module": "@jupyter-widgets/controls",
            "_model_module_version": "1.5.0",
            "_model_name": "HBoxModel",
            "_view_count": null,
            "_view_module": "@jupyter-widgets/controls",
            "_view_module_version": "1.5.0",
            "_view_name": "HBoxView",
            "box_style": "",
            "children": [
              "IPY_MODEL_8fbb9f8d82e54cc3bab51dcdd4dc1d17",
              "IPY_MODEL_ab137fc013f94c7a9ee4a0690d1c8da9",
              "IPY_MODEL_da9466af18e046cebe5798154202bf18"
            ],
            "layout": "IPY_MODEL_9dc9537e759c4beda8e84dd2bffc4a80"
          }
        },
        "8fbb9f8d82e54cc3bab51dcdd4dc1d17": {
          "model_module": "@jupyter-widgets/controls",
          "model_name": "HTMLModel",
          "model_module_version": "1.5.0",
          "state": {
            "_dom_classes": [],
            "_model_module": "@jupyter-widgets/controls",
            "_model_module_version": "1.5.0",
            "_model_name": "HTMLModel",
            "_view_count": null,
            "_view_module": "@jupyter-widgets/controls",
            "_view_module_version": "1.5.0",
            "_view_name": "HTMLView",
            "description": "",
            "description_tooltip": null,
            "layout": "IPY_MODEL_48d7308973fb411da32cd08c76512965",
            "placeholder": "​",
            "style": "IPY_MODEL_43710ca1d4b441c8ac869b33cf21c6db",
            "value": "  0%"
          }
        },
        "ab137fc013f94c7a9ee4a0690d1c8da9": {
          "model_module": "@jupyter-widgets/controls",
          "model_name": "FloatProgressModel",
          "model_module_version": "1.5.0",
          "state": {
            "_dom_classes": [],
            "_model_module": "@jupyter-widgets/controls",
            "_model_module_version": "1.5.0",
            "_model_name": "FloatProgressModel",
            "_view_count": null,
            "_view_module": "@jupyter-widgets/controls",
            "_view_module_version": "1.5.0",
            "_view_name": "ProgressView",
            "bar_style": "",
            "description": "",
            "description_tooltip": null,
            "layout": "IPY_MODEL_9328cb42d8574ed4956fca6b278d3b78",
            "max": 100,
            "min": 0,
            "orientation": "horizontal",
            "style": "IPY_MODEL_7a996020e6d04ca6af0c53d205142f48",
            "value": 0
          }
        },
        "da9466af18e046cebe5798154202bf18": {
          "model_module": "@jupyter-widgets/controls",
          "model_name": "HTMLModel",
          "model_module_version": "1.5.0",
          "state": {
            "_dom_classes": [],
            "_model_module": "@jupyter-widgets/controls",
            "_model_module_version": "1.5.0",
            "_model_name": "HTMLModel",
            "_view_count": null,
            "_view_module": "@jupyter-widgets/controls",
            "_view_module_version": "1.5.0",
            "_view_name": "HTMLView",
            "description": "",
            "description_tooltip": null,
            "layout": "IPY_MODEL_fed9dcdbde7440c58ab33f4de9511a8f",
            "placeholder": "​",
            "style": "IPY_MODEL_301777dc25c040a7a89873f8252e6a3c",
            "value": " 0/100 [00:00&lt;?, ?it/s]"
          }
        },
        "9dc9537e759c4beda8e84dd2bffc4a80": {
          "model_module": "@jupyter-widgets/base",
          "model_name": "LayoutModel",
          "model_module_version": "1.2.0",
          "state": {
            "_model_module": "@jupyter-widgets/base",
            "_model_module_version": "1.2.0",
            "_model_name": "LayoutModel",
            "_view_count": null,
            "_view_module": "@jupyter-widgets/base",
            "_view_module_version": "1.2.0",
            "_view_name": "LayoutView",
            "align_content": null,
            "align_items": null,
            "align_self": null,
            "border": null,
            "bottom": null,
            "display": null,
            "flex": null,
            "flex_flow": null,
            "grid_area": null,
            "grid_auto_columns": null,
            "grid_auto_flow": null,
            "grid_auto_rows": null,
            "grid_column": null,
            "grid_gap": null,
            "grid_row": null,
            "grid_template_areas": null,
            "grid_template_columns": null,
            "grid_template_rows": null,
            "height": null,
            "justify_content": null,
            "justify_items": null,
            "left": null,
            "margin": null,
            "max_height": null,
            "max_width": null,
            "min_height": null,
            "min_width": null,
            "object_fit": null,
            "object_position": null,
            "order": null,
            "overflow": null,
            "overflow_x": null,
            "overflow_y": null,
            "padding": null,
            "right": null,
            "top": null,
            "visibility": null,
            "width": null
          }
        },
        "48d7308973fb411da32cd08c76512965": {
          "model_module": "@jupyter-widgets/base",
          "model_name": "LayoutModel",
          "model_module_version": "1.2.0",
          "state": {
            "_model_module": "@jupyter-widgets/base",
            "_model_module_version": "1.2.0",
            "_model_name": "LayoutModel",
            "_view_count": null,
            "_view_module": "@jupyter-widgets/base",
            "_view_module_version": "1.2.0",
            "_view_name": "LayoutView",
            "align_content": null,
            "align_items": null,
            "align_self": null,
            "border": null,
            "bottom": null,
            "display": null,
            "flex": null,
            "flex_flow": null,
            "grid_area": null,
            "grid_auto_columns": null,
            "grid_auto_flow": null,
            "grid_auto_rows": null,
            "grid_column": null,
            "grid_gap": null,
            "grid_row": null,
            "grid_template_areas": null,
            "grid_template_columns": null,
            "grid_template_rows": null,
            "height": null,
            "justify_content": null,
            "justify_items": null,
            "left": null,
            "margin": null,
            "max_height": null,
            "max_width": null,
            "min_height": null,
            "min_width": null,
            "object_fit": null,
            "object_position": null,
            "order": null,
            "overflow": null,
            "overflow_x": null,
            "overflow_y": null,
            "padding": null,
            "right": null,
            "top": null,
            "visibility": null,
            "width": null
          }
        },
        "43710ca1d4b441c8ac869b33cf21c6db": {
          "model_module": "@jupyter-widgets/controls",
          "model_name": "DescriptionStyleModel",
          "model_module_version": "1.5.0",
          "state": {
            "_model_module": "@jupyter-widgets/controls",
            "_model_module_version": "1.5.0",
            "_model_name": "DescriptionStyleModel",
            "_view_count": null,
            "_view_module": "@jupyter-widgets/base",
            "_view_module_version": "1.2.0",
            "_view_name": "StyleView",
            "description_width": ""
          }
        },
        "9328cb42d8574ed4956fca6b278d3b78": {
          "model_module": "@jupyter-widgets/base",
          "model_name": "LayoutModel",
          "model_module_version": "1.2.0",
          "state": {
            "_model_module": "@jupyter-widgets/base",
            "_model_module_version": "1.2.0",
            "_model_name": "LayoutModel",
            "_view_count": null,
            "_view_module": "@jupyter-widgets/base",
            "_view_module_version": "1.2.0",
            "_view_name": "LayoutView",
            "align_content": null,
            "align_items": null,
            "align_self": null,
            "border": null,
            "bottom": null,
            "display": null,
            "flex": null,
            "flex_flow": null,
            "grid_area": null,
            "grid_auto_columns": null,
            "grid_auto_flow": null,
            "grid_auto_rows": null,
            "grid_column": null,
            "grid_gap": null,
            "grid_row": null,
            "grid_template_areas": null,
            "grid_template_columns": null,
            "grid_template_rows": null,
            "height": null,
            "justify_content": null,
            "justify_items": null,
            "left": null,
            "margin": null,
            "max_height": null,
            "max_width": null,
            "min_height": null,
            "min_width": null,
            "object_fit": null,
            "object_position": null,
            "order": null,
            "overflow": null,
            "overflow_x": null,
            "overflow_y": null,
            "padding": null,
            "right": null,
            "top": null,
            "visibility": null,
            "width": null
          }
        },
        "7a996020e6d04ca6af0c53d205142f48": {
          "model_module": "@jupyter-widgets/controls",
          "model_name": "ProgressStyleModel",
          "model_module_version": "1.5.0",
          "state": {
            "_model_module": "@jupyter-widgets/controls",
            "_model_module_version": "1.5.0",
            "_model_name": "ProgressStyleModel",
            "_view_count": null,
            "_view_module": "@jupyter-widgets/base",
            "_view_module_version": "1.2.0",
            "_view_name": "StyleView",
            "bar_color": null,
            "description_width": ""
          }
        },
        "fed9dcdbde7440c58ab33f4de9511a8f": {
          "model_module": "@jupyter-widgets/base",
          "model_name": "LayoutModel",
          "model_module_version": "1.2.0",
          "state": {
            "_model_module": "@jupyter-widgets/base",
            "_model_module_version": "1.2.0",
            "_model_name": "LayoutModel",
            "_view_count": null,
            "_view_module": "@jupyter-widgets/base",
            "_view_module_version": "1.2.0",
            "_view_name": "LayoutView",
            "align_content": null,
            "align_items": null,
            "align_self": null,
            "border": null,
            "bottom": null,
            "display": null,
            "flex": null,
            "flex_flow": null,
            "grid_area": null,
            "grid_auto_columns": null,
            "grid_auto_flow": null,
            "grid_auto_rows": null,
            "grid_column": null,
            "grid_gap": null,
            "grid_row": null,
            "grid_template_areas": null,
            "grid_template_columns": null,
            "grid_template_rows": null,
            "height": null,
            "justify_content": null,
            "justify_items": null,
            "left": null,
            "margin": null,
            "max_height": null,
            "max_width": null,
            "min_height": null,
            "min_width": null,
            "object_fit": null,
            "object_position": null,
            "order": null,
            "overflow": null,
            "overflow_x": null,
            "overflow_y": null,
            "padding": null,
            "right": null,
            "top": null,
            "visibility": null,
            "width": null
          }
        },
        "301777dc25c040a7a89873f8252e6a3c": {
          "model_module": "@jupyter-widgets/controls",
          "model_name": "DescriptionStyleModel",
          "model_module_version": "1.5.0",
          "state": {
            "_model_module": "@jupyter-widgets/controls",
            "_model_module_version": "1.5.0",
            "_model_name": "DescriptionStyleModel",
            "_view_count": null,
            "_view_module": "@jupyter-widgets/base",
            "_view_module_version": "1.2.0",
            "_view_name": "StyleView",
            "description_width": ""
          }
        }
      }
    }
  },
  "cells": [
    {
      "cell_type": "markdown",
      "source": [
        "# Imports"
      ],
      "metadata": {
        "id": "B1dVDzkyVK4i"
      }
    },
    {
      "cell_type": "code",
      "source": [
        "# ! pip install transformers datasets\n",
        "# ! pip3 install torch"
      ],
      "metadata": {
        "id": "n1aghWjSuG6x"
      },
      "execution_count": 2,
      "outputs": []
    },
    {
      "cell_type": "code",
      "execution_count": 3,
      "metadata": {
        "id": "kEVPMcrM0uui",
        "colab": {
          "base_uri": "https://localhost:8080/"
        },
        "outputId": "2d628880-a11f-4cf5-a31f-695038527bef"
      },
      "outputs": [
        {
          "output_type": "stream",
          "name": "stderr",
          "text": [
            "[nltk_data] Downloading package punkt to /root/nltk_data...\n",
            "[nltk_data]   Package punkt is already up-to-date!\n",
            "[nltk_data] Downloading package punkt_tab to /root/nltk_data...\n",
            "[nltk_data]   Package punkt_tab is already up-to-date!\n",
            "[nltk_data] Downloading package averaged_perceptron_tagger to\n",
            "[nltk_data]     /root/nltk_data...\n",
            "[nltk_data]   Package averaged_perceptron_tagger is already up-to-\n",
            "[nltk_data]       date!\n",
            "[nltk_data] Downloading package averaged_perceptron_tagger_eng to\n",
            "[nltk_data]     /root/nltk_data...\n",
            "[nltk_data]   Package averaged_perceptron_tagger_eng is already up-to-\n",
            "[nltk_data]       date!\n"
          ]
        },
        {
          "output_type": "execute_result",
          "data": {
            "text/plain": [
              "True"
            ]
          },
          "metadata": {},
          "execution_count": 3
        }
      ],
      "source": [
        "import torch\n",
        "from transformers import AutoTokenizer\n",
        "from transformers import AutoModelForSequenceClassification\n",
        "from transformers import TFAutoModelForSequenceClassification\n",
        "\n",
        "import re\n",
        "import csv\n",
        "import shap\n",
        "import nltk, scipy\n",
        "import numpy as np\n",
        "import pandas as pd\n",
        "import urllib.request\n",
        "import seaborn as sns\n",
        "import torch.nn as nn\n",
        "from sklearn.svm import SVC\n",
        "import torch.optim as optim\n",
        "from datasets import Dataset\n",
        "import matplotlib.pyplot as plt\n",
        "from collections import Counter\n",
        "from xgboost import XGBClassifier\n",
        "from scipy.special import softmax\n",
        "from xgboost import plot_importance\n",
        "from sklearn.pipeline import Pipeline\n",
        "from nltk import word_tokenize, pos_tag\n",
        "from sklearn.compose import ColumnTransformer\n",
        "from tensorflow.keras.models import Sequential\n",
        "from tensorflow.keras.layers import Dense, Dropout\n",
        "from sklearn.linear_model import LogisticRegression\n",
        "from sklearn.model_selection import train_test_split\n",
        "from sklearn.feature_extraction.text import TfidfVectorizer\n",
        "from sklearn.preprocessing import OneHotEncoder, StandardScaler\n",
        "from sklearn.metrics import classification_report, accuracy_score, roc_auc_score\n",
        "from transformers import BertTokenizer, BertForSequenceClassification, Trainer, TrainingArguments, DataCollatorWithPadding\n",
        "\n",
        "\n",
        "nltk.download('punkt')\n",
        "nltk.download('punkt_tab')\n",
        "nltk.download('averaged_perceptron_tagger')\n",
        "nltk.download('averaged_perceptron_tagger_eng')"
      ]
    },
    {
      "cell_type": "markdown",
      "source": [
        "**Algorithmic approaches:**\n",
        "\n",
        "\n",
        "\n",
        "1. [sklearn.linear_model.LogisticRegression](http://scikit-learn.org/stable/modules/generated/sklearn.linear_model.LogisticRegression.html#sklearn.linear_model.LogisticRegression)\n",
        "2. [sklearn.svm.SVC](http://scikit-learn.org/stable/modules/generated/sklearn.svm.SVC.html#sklearn.svm.SVC) (try both linear and nonlinear kernels!)\n",
        "3. FFNN classifier - You should use  the PyTorch library to build a FFNN classifier (with at least one hidden layer) to achieve the classification. Feel free to experiment with the number of layers ([a simple tutorial for FFNN with PyTorch](https://medium.com/biaslyai/pytorch-introduction-to-neural-network-feedforward-neural-network-model-e7231cff47cb)).\n",
        "4. A fourth classifier of choice (neural or not). You are encouraged to experiment with classifiers that allow combining different types of features (e.g. number of capitalized words, time of tweeting, etc.)\n",
        "5. A fifth classifier of your choice  (this should be neural -  RNN, or transformer-based) - feel free to experiment.\n",
        "\n"
      ],
      "metadata": {
        "id": "Qy428MPY1r__"
      }
    },
    {
      "cell_type": "markdown",
      "source": [
        "# Data Loading"
      ],
      "metadata": {
        "id": "oNKf0fi2VNvw"
      }
    },
    {
      "cell_type": "code",
      "source": [
        "# Define the column names\n",
        "columns = [\"tweet id\", \"user handle\", \"tweet text\", \"time stamp\", \"device\"]\n",
        "\n",
        "# Read the TSV file and assign column names\n",
        "df = pd.read_csv(\"trump_train.tsv\", sep='\\t', names=columns)"
      ],
      "metadata": {
        "id": "Lk0e42GPfsoj"
      },
      "execution_count": 4,
      "outputs": []
    },
    {
      "cell_type": "markdown",
      "source": [
        "# EDA"
      ],
      "metadata": {
        "id": "og1N2goCVP9_"
      }
    },
    {
      "cell_type": "code",
      "source": [
        "# Basic info\n",
        "print(df.info())\n",
        "\n",
        "# Descriptive statistics for numerical columns (like tweet lengths later)\n",
        "print(df.describe(include='all'))\n"
      ],
      "metadata": {
        "colab": {
          "base_uri": "https://localhost:8080/"
        },
        "id": "bRM-j4Ixg5aj",
        "outputId": "5a23038c-1b7b-421a-9af0-96878421fd77"
      },
      "execution_count": 5,
      "outputs": [
        {
          "output_type": "stream",
          "name": "stdout",
          "text": [
            "<class 'pandas.core.frame.DataFrame'>\n",
            "RangeIndex: 3156 entries, 0 to 3155\n",
            "Data columns (total 5 columns):\n",
            " #   Column       Non-Null Count  Dtype \n",
            "---  ------       --------------  ----- \n",
            " 0   tweet id     3156 non-null   int64 \n",
            " 1   user handle  3156 non-null   object\n",
            " 2   tweet text   3156 non-null   object\n",
            " 3   time stamp   3156 non-null   object\n",
            " 4   device       3156 non-null   object\n",
            "dtypes: int64(1), object(4)\n",
            "memory usage: 123.4+ KB\n",
            "None\n",
            "            tweet id      user handle                 tweet text  \\\n",
            "count   3.156000e+03             3156                       3156   \n",
            "unique           NaN                3                       3149   \n",
            "top              NaN  realDonaldTrump  MAKE AMERICA GREAT AGAIN!   \n",
            "freq             NaN             3144                          3   \n",
            "mean    7.072638e+17              NaN                        NaN   \n",
            "std     5.351963e+16              NaN                        NaN   \n",
            "min     5.931708e+17              NaN                        NaN   \n",
            "25%     6.639595e+17              NaN                        NaN   \n",
            "50%     7.003111e+17              NaN                        NaN   \n",
            "75%     7.481636e+17              NaN                        NaN   \n",
            "max     8.481586e+17              NaN                        NaN   \n",
            "\n",
            "              time stamp   device  \n",
            "count               3156     3156  \n",
            "unique              3136        9  \n",
            "top     otherTwitter for  android  \n",
            "freq                  18     1991  \n",
            "mean                 NaN      NaN  \n",
            "std                  NaN      NaN  \n",
            "min                  NaN      NaN  \n",
            "25%                  NaN      NaN  \n",
            "50%                  NaN      NaN  \n",
            "75%                  NaN      NaN  \n",
            "max                  NaN      NaN  \n"
          ]
        }
      ]
    },
    {
      "cell_type": "code",
      "source": [
        "# Number of unique users\n",
        "print(\"Number of unique user handles:\", df[\"user handle\"].nunique())\n",
        "\n",
        "print(df[\"user handle\"].value_counts())\n"
      ],
      "metadata": {
        "colab": {
          "base_uri": "https://localhost:8080/"
        },
        "id": "RSecjRFMm5CL",
        "outputId": "72b6832c-49c6-42eb-cb0b-38a92bdc7e2a"
      },
      "execution_count": 6,
      "outputs": [
        {
          "output_type": "stream",
          "name": "stdout",
          "text": [
            "Number of unique user handles: 3\n",
            "user handle\n",
            "realDonaldTrump    3144\n",
            "PressSec             11\n",
            "POTUS                 1\n",
            "Name: count, dtype: int64\n"
          ]
        }
      ]
    },
    {
      "cell_type": "code",
      "source": [
        "# Unique devices used\n",
        "print(\"Unique devices:\", df[\"device\"].unique())\n",
        "\n",
        "# Device usage count\n",
        "print(df[\"device\"].value_counts())\n"
      ],
      "metadata": {
        "colab": {
          "base_uri": "https://localhost:8080/"
        },
        "id": "KyCs-0eUnAr_",
        "outputId": "b7e69ef6-8c13-4b09-ce72-3f41b267bafa"
      },
      "execution_count": 7,
      "outputs": [
        {
          "output_type": "stream",
          "name": "stdout",
          "text": [
            "Unique devices: ['iphone' 'android' 'webClient' 'instagram' 'BlackBerry</a>' 'iPad</a>'\n",
            " 'tweetDeck' 'otherPeriscope.TV</a>' 'otherFacebook</a>']\n",
            "device\n",
            "android                  1991\n",
            "iphone                    906\n",
            "webClient                 225\n",
            "BlackBerry</a>             12\n",
            "tweetDeck                   8\n",
            "iPad</a>                    6\n",
            "instagram                   4\n",
            "otherPeriscope.TV</a>       3\n",
            "otherFacebook</a>           1\n",
            "Name: count, dtype: int64\n"
          ]
        }
      ]
    },
    {
      "cell_type": "code",
      "source": [
        "df = df[(df['device'] == 'android') | (df['device'] == 'iphone')]\n",
        "df = df[(df['user handle'] == 'realDonaldTrump')]"
      ],
      "metadata": {
        "id": "aALl4tFAMfsx"
      },
      "execution_count": 5,
      "outputs": []
    },
    {
      "cell_type": "code",
      "source": [
        "plt.figure(figsize=(6, 5))\n",
        "# Calculate the counts of each device before plotting\n",
        "device_counts = df['device'].value_counts()\n",
        "ax = device_counts.plot(kind='bar', color=['red', 'orange'])\n",
        "\n",
        "plt.title('Device distribution') # Fixed typo in title\n",
        "plt.ylabel('Amount') # Changed 'amount' to 'Amount' for better capitalization\n",
        "plt.xticks(rotation=0)\n",
        "plt.grid(axis='y', linestyle='--', alpha=0.7)\n",
        "plt.tight_layout()\n",
        "\n",
        "# Add the count on top of each bar\n",
        "for p in ax.patches:\n",
        "    ax.annotate(f'{p.get_height()}', (p.get_x() + p.get_width() / 2., p.get_height()),\n",
        "                ha='center', va='center', xytext=(0, 5), textcoords='offset points')\n",
        "\n",
        "plt.show()"
      ],
      "metadata": {
        "colab": {
          "base_uri": "https://localhost:8080/",
          "height": 507
        },
        "id": "96qMBZTTYQfE",
        "outputId": "81794a58-a27b-437b-a2d2-bbfcfbc07b18"
      },
      "execution_count": 10,
      "outputs": [
        {
          "output_type": "display_data",
          "data": {
            "text/plain": [
              "<Figure size 600x500 with 1 Axes>"
            ],
            "image/png": "[encoded data removed]"
          },
          "metadata": {}
        }
      ]
    },
    {
      "cell_type": "code",
      "source": [
        "# Add a new column for tweet length\n",
        "df[\"tweet length\"] = df[\"tweet text\"].astype(str).apply(len)\n",
        "\n",
        "# Basic stats on tweet length\n",
        "print(df[\"tweet length\"].describe())\n",
        "\n",
        "sns.histplot(df[\"tweet length\"], bins=30, kde=True)\n",
        "plt.title(\"Distribution of Tweet Lengths\")\n",
        "plt.xlabel(\"Tweet Length\")\n",
        "plt.ylabel(\"Frequency\")\n",
        "plt.show()\n"
      ],
      "metadata": {
        "colab": {
          "base_uri": "https://localhost:8080/",
          "height": 636
        },
        "id": "hjB6JVM_nG8R",
        "outputId": "eac6d476-5a02-4a3f-ee6c-d92271f69e85"
      },
      "execution_count": 6,
      "outputs": [
        {
          "output_type": "stream",
          "name": "stdout",
          "text": [
            "count    2895.000000\n",
            "mean      137.852850\n",
            "std       190.225688\n",
            "min        14.000000\n",
            "25%        99.000000\n",
            "50%       131.000000\n",
            "75%       138.000000\n",
            "max      4938.000000\n",
            "Name: tweet length, dtype: float64\n"
          ]
        },
        {
          "output_type": "display_data",
          "data": {
            "text/plain": [
              "<Figure size 640x480 with 1 Axes>"
            ],
            "image/png": "[encoded data removed]"
          },
          "metadata": {}
        }
      ]
    },
    {
      "cell_type": "code",
      "source": [
        "# Convert time stamp to datetime\n",
        "df[\"time stamp\"] = pd.to_datetime(df[\"time stamp\"], errors='coerce')\n",
        "\n",
        "# Check for parsing issues\n",
        "print(\"Number of NaT time stamps:\", df[\"time stamp\"].isna().sum())\n",
        "\n",
        "# Tweets per year/month\n",
        "print(df[\"time stamp\"].dt.year.value_counts().sort_index())\n",
        "print(df[\"time stamp\"].dt.month.value_counts().sort_index())\n",
        "\n",
        "# Optional: Plot tweets over time\n",
        "df[\"time stamp\"].dt.date.value_counts().sort_index().plot(figsize=(14, 4))\n",
        "plt.title(\"Tweets Over Time\")\n",
        "plt.xlabel(\"Date\")\n",
        "plt.ylabel(\"Tweet Count\")\n",
        "plt.show()\n"
      ],
      "metadata": {
        "colab": {
          "base_uri": "https://localhost:8080/",
          "height": 775
        },
        "id": "a5ce-vIrn0WJ",
        "outputId": "a268bcbd-d44a-49a6-e422-8f3838cd8305"
      },
      "execution_count": 7,
      "outputs": [
        {
          "output_type": "stream",
          "name": "stdout",
          "text": [
            "Number of NaT time stamps: 0\n",
            "time stamp\n",
            "2015    1002\n",
            "2016    1702\n",
            "2017     191\n",
            "Name: count, dtype: int64\n",
            "time stamp\n",
            "1     347\n",
            "2     316\n",
            "3     205\n",
            "4     147\n",
            "5     184\n",
            "6     137\n",
            "7     364\n",
            "8     227\n",
            "9     230\n",
            "10    294\n",
            "11    215\n",
            "12    229\n",
            "Name: count, dtype: int64\n"
          ]
        },
        {
          "output_type": "display_data",
          "data": {
            "text/plain": [
              "<Figure size 1400x400 with 1 Axes>"
            ],
            "image/png": "[encoded data removed]"
          },
          "metadata": {}
        }
      ]
    },
    {
      "cell_type": "code",
      "source": [
        "# Drop rows with invalid timestamps\n",
        "df = df.dropna(subset=[\"time stamp\"])\n",
        "\n",
        "# Extract hour from timestamp\n",
        "df[\"hour\"] = df[\"time stamp\"].dt.hour\n",
        "\n",
        "# Count tweets per hour\n",
        "hourly_counts = df[\"hour\"].value_counts().sort_index()\n",
        "\n",
        "# Print counts\n",
        "print(hourly_counts)\n",
        "\n",
        "\n",
        "sns.barplot(x=hourly_counts.index, y=hourly_counts.values, palette=\"Blues_d\")\n",
        "plt.title(\"Tweet Distribution by Hour of Day\")\n",
        "plt.xlabel(\"Hour of Day (0-23)\")\n",
        "plt.ylabel(\"Number of Tweets\")\n",
        "plt.xticks(range(0, 24))\n",
        "plt.grid(axis='y', linestyle='--', alpha=0.7)\n",
        "plt.show()\n"
      ],
      "metadata": {
        "colab": {
          "base_uri": "https://localhost:8080/",
          "height": 1000
        },
        "id": "1qxaTQLHoK5H",
        "outputId": "afa14a54-bb9a-4f67-97ee-3b06e2fc46b9"
      },
      "execution_count": 8,
      "outputs": [
        {
          "output_type": "stream",
          "name": "stdout",
          "text": [
            "hour\n",
            "0     110\n",
            "1     125\n",
            "2     117\n",
            "3     100\n",
            "4      97\n",
            "5     103\n",
            "6      77\n",
            "7     127\n",
            "8      65\n",
            "9      13\n",
            "10      6\n",
            "11     31\n",
            "12     67\n",
            "13    194\n",
            "14    290\n",
            "15    313\n",
            "16    264\n",
            "17    157\n",
            "18    121\n",
            "19    107\n",
            "20    105\n",
            "21     78\n",
            "22    120\n",
            "23    108\n",
            "Name: count, dtype: int64\n"
          ]
        },
        {
          "output_type": "stream",
          "name": "stderr",
          "text": [
            "<ipython-input-8-2001847990a5>:14: FutureWarning: \n",
            "\n",
            "Passing `palette` without assigning `hue` is deprecated and will be removed in v0.14.0. Assign the `x` variable to `hue` and set `legend=False` for the same effect.\n",
            "\n",
            "  sns.barplot(x=hourly_counts.index, y=hourly_counts.values, palette=\"Blues_d\")\n"
          ]
        },
        {
          "output_type": "display_data",
          "data": {
            "text/plain": [
              "<Figure size 640x480 with 1 Axes>"
            ],
            "image/png": "[encoded data removed]"
          },
          "metadata": {}
        }
      ]
    },
    {
      "cell_type": "markdown",
      "source": [
        "# Helper functions"
      ],
      "metadata": {
        "id": "5UXgOlwCWYaW"
      }
    },
    {
      "cell_type": "code",
      "source": [
        "# Capitalized words counter\n",
        "def count_capitalized_patterns(text):\n",
        "    if not isinstance(text, str):\n",
        "        return 0, 0\n",
        "\n",
        "    # Extract word tokens (ignore punctuation)\n",
        "    words = re.findall(r'\\b\\w+\\b', text)\n",
        "\n",
        "    full_caps = 0\n",
        "    init_caps = 0\n",
        "\n",
        "    for word in words:\n",
        "        if word.isupper() and word.isalpha():\n",
        "            full_caps += 1\n",
        "        elif word[0].isupper() and word[1:].islower():\n",
        "            init_caps += 1\n",
        "\n",
        "    return full_caps, init_caps\n",
        "\n",
        "# Non-letter characters counter\n",
        "def count_non_letters(text):\n",
        "    if isinstance(text, str):\n",
        "        return len(re.findall(r'[^a-zA-Z]', text))\n",
        "    return 0\n",
        "\n",
        "# Apply the functions to the 'tweet text' column\n",
        "df[['full_caps_count', 'init_caps_count']] = df['tweet text'].apply(\n",
        "    lambda x: pd.Series(count_capitalized_patterns(x)))\n",
        "df['non_letter_count'] = df['tweet text'].apply(count_non_letters)\n",
        "\n",
        "# Preview the result\n",
        "print(df[['tweet text', 'full_caps_count', 'init_caps_count', 'non_letter_count']].head())"
      ],
      "metadata": {
        "colab": {
          "base_uri": "https://localhost:8080/"
        },
        "id": "BtEoj9mpuzx7",
        "outputId": "da2ec3e1-a8eb-436e-cd47-c6aeba90915b"
      },
      "execution_count": 9,
      "outputs": [
        {
          "output_type": "stream",
          "name": "stdout",
          "text": [
            "                                          tweet text  full_caps_count  \\\n",
            "0  Democrats are smiling in D.C. that the Freedom...                2   \n",
            "1  General Kelly is doing a great job at the bord...                0   \n",
            "2  The race for DNC Chairman was, of course, tota...                1   \n",
            "3  For first time the failing @nytimes will take ...                0   \n",
            "4  Russia talk is FAKE NEWS put out by the Dems, ...                2   \n",
            "\n",
            "   init_caps_count  non_letter_count  \n",
            "0               10                30  \n",
            "1                4                25  \n",
            "2                6                31  \n",
            "3                2                30  \n",
            "4                2                30  \n"
          ]
        }
      ]
    },
    {
      "cell_type": "code",
      "source": [
        "# Compute averages per device\n",
        "device_avg = df.groupby('device')[['full_caps_count', 'init_caps_count', 'non_letter_count']].mean()\n",
        "\n",
        "# Plot: Fully Capitalized Words\n",
        "plt.figure(figsize=(6, 5))\n",
        "device_avg['full_caps_count'].plot(kind='bar', color=['skyblue', 'salmon'])\n",
        "plt.title('Average Number of Fully Capitalized Words per Tweet by Device')\n",
        "plt.ylabel('Average FULLY Capitalized Words')\n",
        "plt.xticks(rotation=0)\n",
        "plt.grid(axis='y', linestyle='--', alpha=0.7)\n",
        "plt.tight_layout()\n",
        "plt.show()\n",
        "\n",
        "# Plot: Initial Capitalized Words\n",
        "plt.figure(figsize=(6, 5))\n",
        "device_avg['init_caps_count'].plot(kind='bar', color=['mediumpurple', 'lightcoral'])\n",
        "plt.title('Average Number of Initial Capitalized Words per Tweet by Device')\n",
        "plt.ylabel('Average Initially Capitalized Words')\n",
        "plt.xticks(rotation=0)\n",
        "plt.grid(axis='y', linestyle='--', alpha=0.7)\n",
        "plt.tight_layout()\n",
        "plt.show()\n",
        "\n",
        "# Plot: Non-Letter Characters\n",
        "plt.figure(figsize=(6, 5))\n",
        "device_avg['non_letter_count'].plot(kind='bar', color=['lightgreen', 'orange'])\n",
        "plt.title('Average Number of Non-Letter Characters per Tweet by Device')\n",
        "plt.ylabel('Average Non-Letter Characters')\n",
        "plt.xticks(rotation=0)\n",
        "plt.grid(axis='y', linestyle='--', alpha=0.7)\n",
        "plt.tight_layout()\n",
        "plt.show()"
      ],
      "metadata": {
        "colab": {
          "base_uri": "https://localhost:8080/",
          "height": 1000
        },
        "id": "oE8Ce9htCMxb",
        "outputId": "5a189dc1-bfb8-44ee-c1af-e3ccedc46cd6"
      },
      "execution_count": 10,
      "outputs": [
        {
          "output_type": "display_data",
          "data": {
            "text/plain": [
              "<Figure size 600x500 with 1 Axes>"
            ],
            "image/png": "[encoded data removed]"
          },
          "metadata": {}
        },
        {
          "output_type": "display_data",
          "data": {
            "text/plain": [
              "<Figure size 600x500 with 1 Axes>"
            ],
            "image/png": "[encoded data removed]"
          },
          "metadata": {}
        },
        {
          "output_type": "display_data",
          "data": {
            "text/plain": [
              "<Figure size 600x500 with 1 Axes>"
            ],
            "image/png": "[encoded data removed]"
          },
          "metadata": {}
        }
      ]
    },
    {
      "cell_type": "markdown",
      "source": [
        "# Helper functions"
      ],
      "metadata": {
        "id": "_phwj1oiWlww"
      }
    },
    {
      "cell_type": "code",
      "source": [
        "# Extract hour and map to time of day\n",
        "def get_time_of_day(hour):\n",
        "    if 6 <= hour < 12:\n",
        "        return \"morning\"\n",
        "    elif 12 <= hour < 17:\n",
        "        return \"noon\"\n",
        "    elif 17 <= hour < 21:\n",
        "        return \"evening\"\n",
        "    else:\n",
        "        return \"night\""
      ],
      "metadata": {
        "id": "pskC5e0GTc-h"
      },
      "execution_count": 11,
      "outputs": []
    },
    {
      "cell_type": "code",
      "source": [
        "def extract_pos_features(text: str):\n",
        "    tokens = word_tokenize(text)\n",
        "    tags = [tag for word, tag in pos_tag(tokens)]\n",
        "    counts = Counter(tags)\n",
        "\n",
        "    # Focus on high-level POS categories\n",
        "    features = {\n",
        "        \"num_nouns\": sum(counts[t] for t in ['NN', 'NNS', 'NNP', 'NNPS']),\n",
        "        \"num_verbs\": sum(counts[t] for t in ['VB', 'VBD', 'VBG', 'VBN', 'VBP', 'VBZ']),\n",
        "        \"num_adjs\": sum(counts[t] for t in ['JJ', 'JJR', 'JJS']),\n",
        "        \"num_advs\": sum(counts[t] for t in ['RB', 'RBR', 'RBS']),\n",
        "        \"num_pronouns\": sum(counts[t] for t in ['PRP', 'PRP$', 'WP', 'WP$']),\n",
        "    }\n",
        "    return pd.Series(features)\n"
      ],
      "metadata": {
        "id": "Jr_FgR9JX2ZB"
      },
      "execution_count": 12,
      "outputs": []
    },
    {
      "cell_type": "code",
      "source": [
        "def prepare_tweet_dataframe(tsv_path: str) -> pd.DataFrame:\n",
        "    \"\"\"\n",
        "    Loads and preprocesses the tweet dataset.\n",
        "\n",
        "    Args:\n",
        "        tsv_path (str): Path to the TSV file.\n",
        "\n",
        "    Returns:\n",
        "        pd.DataFrame: Preprocessed dataframe with engineered features.\n",
        "    \"\"\"\n",
        "    # Load data\n",
        "    columns = [\"tweet id\", \"user handle\", \"tweet text\", \"time stamp\", \"device\"]\n",
        "    df = pd.read_csv(tsv_path, sep='\\t', names=columns)\n",
        "\n",
        "    # Parse timestamp\n",
        "    df[\"time stamp\"] = pd.to_datetime(df[\"time stamp\"], errors='coerce')\n",
        "\n",
        "    df[\"device\"] = df[\"device\"].astype(str)\n",
        "\n",
        "    # Drop invalid rows\n",
        "    df.dropna(subset=[\"tweet text\", \"device\", \"time stamp\"], inplace=True)\n",
        "\n",
        "    # Filter for Android/iPhone and Donald Trump only\n",
        "    df = df[df[\"device\"].str.lower().isin([\"android\", \"iphone\"])]\n",
        "    df = df[df[\"user handle\"] == \"realDonaldTrump\"]\n",
        "\n",
        "    # Binary class\n",
        "    df[\"class\"] = df[\"device\"].str.lower().str.contains(\"iphone\").astype(int)\n",
        "\n",
        "    # Feature engineering\n",
        "    df[\"tweet length\"] = df[\"tweet text\"].astype(str).apply(len)\n",
        "    df[\"hour\"] = df[\"time stamp\"].dt.hour\n",
        "    df[\"tweet time\"] = df[\"hour\"].apply(get_time_of_day)\n",
        "    df[\"year\"] = df[\"time stamp\"].dt.year.astype(str)\n",
        "\n",
        "    df[[\"full_caps_count\", \"init_caps_count\"]] = df[\"tweet text\"].apply(\n",
        "        lambda x: pd.Series(count_capitalized_patterns(x))\n",
        "    )\n",
        "\n",
        "    df[\"non_letter_count\"] = df[\"tweet text\"].apply(count_non_letters)\n",
        "\n",
        "    pos_df = df[\"tweet text\"].apply(extract_pos_features)\n",
        "    df = pd.concat([df, pos_df], axis=1)\n",
        "\n",
        "    return df"
      ],
      "metadata": {
        "id": "Zy3OwiZ3Vrg0"
      },
      "execution_count": 13,
      "outputs": []
    },
    {
      "cell_type": "markdown",
      "source": [
        "# Logistic regression function"
      ],
      "metadata": {
        "id": "0zz0v0HMWo9B"
      }
    },
    {
      "cell_type": "code",
      "source": [
        "def train_logistic_regression(train_fn: str):\n",
        "    \"\"\"\n",
        "    Loads tweet data from TSV, processes it, and trains a Logistic Regression model\n",
        "    to classify whether a tweet was sent from Android (1) or not (0).\n",
        "\n",
        "    Args:\n",
        "        train_fn (str): Full path to the TSV file containing training data.\n",
        "    \"\"\"\n",
        "    df = prepare_tweet_dataframe(train_fn)\n",
        "\n",
        "    # Define features and target\n",
        "    X = df[[\n",
        "    \"tweet text\", \"tweet time\", \"year\", \"tweet length\", \"hour\",\n",
        "    \"full_caps_count\", \"init_caps_count\", \"non_letter_count\",\n",
        "    \"num_nouns\", \"num_verbs\", \"num_adjs\", \"num_advs\", \"num_pronouns\"\n",
        "]]\n",
        "\n",
        "    y = df[\"class\"]\n",
        "\n",
        "    # Preprocessing pipeline\n",
        "    preprocessor = ColumnTransformer(transformers=[\n",
        "        ('text', TfidfVectorizer(max_features=5000, stop_words='english'), 'tweet text'),\n",
        "        ('cat', OneHotEncoder(), ['tweet time', 'year']),\n",
        "        ('num', StandardScaler(), [\n",
        "    'tweet length', 'hour',\n",
        "    'full_caps_count', 'init_caps_count', 'non_letter_count',\n",
        "    'num_nouns', 'num_verbs', 'num_adjs', 'num_advs', 'num_pronouns'\n",
        "])\n",
        "\n",
        "    ])\n",
        "\n",
        "    # Full pipeline\n",
        "    pipeline = Pipeline(steps=[\n",
        "        ('preprocessor', preprocessor),\n",
        "        ('classifier', LogisticRegression(max_iter=1000))\n",
        "    ])\n",
        "\n",
        "    # Split into train/test sets\n",
        "    X_train, X_test, y_train, y_test = train_test_split(\n",
        "        X, y, test_size=0.2, random_state=42\n",
        "    )\n",
        "\n",
        "    # Train the model\n",
        "    pipeline.fit(X_train, y_train)\n",
        "\n",
        "    # Predict and evaluate\n",
        "    y_pred = pipeline.predict(X_test)\n",
        "    y_prob = pipeline.predict_proba(X_test)[:, 1]\n",
        "\n",
        "    acc = accuracy_score(y_test, y_pred)\n",
        "    auc = roc_auc_score(y_test, y_prob)\n",
        "    report = classification_report(y_test, y_pred)\n",
        "\n",
        "    print(f\"Accuracy: {acc:.4f}\")\n",
        "    print(f\"AUC: {auc:.4f}\")\n",
        "    print(\"\\nClassification Report:\\n\", report)\n",
        "\n",
        "    return pipeline"
      ],
      "metadata": {
        "id": "Ve90VwWlzhsA"
      },
      "execution_count": 17,
      "outputs": []
    },
    {
      "cell_type": "code",
      "source": [
        "LR_pipeline = train_logistic_regression(\"/content/trump_train.tsv\")"
      ],
      "metadata": {
        "colab": {
          "base_uri": "https://localhost:8080/"
        },
        "id": "a4c_--gm0aws",
        "outputId": "d7039f76-5007-4004-fd96-23939ffae6b8"
      },
      "execution_count": 18,
      "outputs": [
        {
          "output_type": "stream",
          "name": "stdout",
          "text": [
            "Accuracy: 0.8705\n",
            "AUC: 0.9286\n",
            "\n",
            "Classification Report:\n",
            "               precision    recall  f1-score   support\n",
            "\n",
            "           0       0.89      0.93      0.91       405\n",
            "           1       0.82      0.73      0.77       174\n",
            "\n",
            "    accuracy                           0.87       579\n",
            "   macro avg       0.85      0.83      0.84       579\n",
            "weighted avg       0.87      0.87      0.87       579\n",
            "\n"
          ]
        }
      ]
    },
    {
      "cell_type": "markdown",
      "source": [
        "# SVM function"
      ],
      "metadata": {
        "id": "yYpijTIAbyF5"
      }
    },
    {
      "cell_type": "code",
      "source": [
        "def train_svm_classifier(train_fn: str, kernel: str = \"linear\") -> Pipeline:\n",
        "    \"\"\"\n",
        "    Loads tweet data from a TSV file, processes it, and trains an SVM classifier\n",
        "    to predict whether a tweet was sent from Android.\n",
        "\n",
        "    Args:\n",
        "        train_fn (str): Full path to the TSV file containing training data.\n",
        "        kernel (str): Kernel type for SVC ('linear', 'rbf', 'poly', etc.).\n",
        "\n",
        "    Returns:\n",
        "        Pipeline: Trained sklearn Pipeline object with preprocessing and SVM classifier.\n",
        "    \"\"\"\n",
        "\n",
        "    df = prepare_tweet_dataframe(train_fn)\n",
        "\n",
        "    # Features and target\n",
        "    X = df[[\n",
        "    \"tweet text\", \"tweet time\", \"year\", \"tweet length\", \"hour\",\n",
        "    \"full_caps_count\", \"init_caps_count\", \"non_letter_count\",\n",
        "    \"num_nouns\", \"num_verbs\", \"num_adjs\", \"num_advs\", \"num_pronouns\"\n",
        "]]\n",
        "\n",
        "    y = df[\"class\"]\n",
        "\n",
        "    # Preprocessing\n",
        "    preprocessor = ColumnTransformer(transformers=[\n",
        "        ('text', TfidfVectorizer(max_features=5000, stop_words='english'), 'tweet text'),\n",
        "        ('cat', OneHotEncoder(), ['tweet time', 'year']),\n",
        "        ('num', StandardScaler(), [\n",
        "    'tweet length', 'hour',\n",
        "    'full_caps_count', 'init_caps_count', 'non_letter_count',\n",
        "    'num_nouns', 'num_verbs', 'num_adjs', 'num_advs', 'num_pronouns'\n",
        "])\n",
        "\n",
        "    ])\n",
        "\n",
        "    # Pipeline with SVM\n",
        "    pipeline = Pipeline(steps=[\n",
        "        ('preprocessor', preprocessor),\n",
        "        ('classifier', SVC(kernel=kernel,probability=True))\n",
        "    ])\n",
        "\n",
        "    # Train/test split\n",
        "    X_train, X_test, y_train, y_test = train_test_split(\n",
        "        X, y, test_size=0.2, random_state=42\n",
        "    )\n",
        "\n",
        "    # Train and evaluate\n",
        "    pipeline.fit(X_train, y_train)\n",
        "    # Predict and evaluate\n",
        "    y_pred = pipeline.predict(X_test)\n",
        "    y_prob = pipeline.predict_proba(X_test)[:, 1]\n",
        "\n",
        "    acc = accuracy_score(y_test, y_pred)\n",
        "    auc = roc_auc_score(y_test, y_prob)\n",
        "    report = classification_report(y_test, y_pred)\n",
        "\n",
        "    print(f\"Accuracy: {acc:.4f}\")\n",
        "    print(f\"AUC: {auc:.4f}\")\n",
        "    print(\"\\nClassification Report:\\n\", report)\n",
        "\n",
        "    return pipeline"
      ],
      "metadata": {
        "id": "dkEkqAxl2nFj"
      },
      "execution_count": 19,
      "outputs": []
    },
    {
      "cell_type": "code",
      "source": [
        "# Linear SVM\n",
        "svm_linear = train_svm_classifier(\"/content/trump_train.tsv\", kernel=\"linear\")\n",
        "\n",
        "# Nonlinear SVM (RBF kernel)\n",
        "svm_rbf = train_svm_classifier(\"/content/trump_train.tsv\", kernel=\"rbf\")\n"
      ],
      "metadata": {
        "colab": {
          "base_uri": "https://localhost:8080/"
        },
        "id": "I6TEcKoN3CQO",
        "outputId": "d1c49ddb-9bc3-40b1-bbfe-b4e26db9624a"
      },
      "execution_count": 20,
      "outputs": [
        {
          "output_type": "stream",
          "name": "stdout",
          "text": [
            "Accuracy: 0.8739\n",
            "AUC: 0.9374\n",
            "\n",
            "Classification Report:\n",
            "               precision    recall  f1-score   support\n",
            "\n",
            "           0       0.90      0.92      0.91       405\n",
            "           1       0.81      0.76      0.78       174\n",
            "\n",
            "    accuracy                           0.87       579\n",
            "   macro avg       0.85      0.84      0.85       579\n",
            "weighted avg       0.87      0.87      0.87       579\n",
            "\n",
            "Accuracy: 0.8722\n",
            "AUC: 0.9116\n",
            "\n",
            "Classification Report:\n",
            "               precision    recall  f1-score   support\n",
            "\n",
            "           0       0.87      0.96      0.91       405\n",
            "           1       0.88      0.67      0.76       174\n",
            "\n",
            "    accuracy                           0.87       579\n",
            "   macro avg       0.87      0.81      0.84       579\n",
            "weighted avg       0.87      0.87      0.87       579\n",
            "\n"
          ]
        }
      ]
    },
    {
      "cell_type": "markdown",
      "source": [
        "# FFNN function"
      ],
      "metadata": {
        "id": "9-QVcEKnb16B"
      }
    },
    {
      "cell_type": "code",
      "source": [
        "def build_ffnn_model(input_dim: int):\n",
        "    model = Sequential([\n",
        "        Dense(256, activation='relu', input_dim=input_dim),\n",
        "        Dropout(0.3),\n",
        "        Dense(128, activation='relu'),\n",
        "        Dropout(0.3),\n",
        "        Dense(64, activation='relu'),\n",
        "        Dropout(0.3),\n",
        "        Dense(32, activation='relu'),\n",
        "        Dropout(0.2),\n",
        "        Dense(1, activation='sigmoid')  # Binary output\n",
        "    ])\n",
        "    model.compile(optimizer='adam', loss='binary_crossentropy', metrics=['accuracy'])\n",
        "    return model\n",
        "\n",
        "def train_ffnn_classifier(train_fn: str, max_features: int = 5000, epochs: int = 10, batch_size: int = 32):\n",
        "    \"\"\"\n",
        "    Trains a Feedforward Neural Network (FFNN) to classify tweets as Android or iPhone.\n",
        "\n",
        "    Args:\n",
        "        train_fn (str): Path to TSV file.\n",
        "        max_features (int): Max TF-IDF features for text.\n",
        "        epochs (int): Number of training epochs.\n",
        "        batch_size (int): Batch size for training.\n",
        "\n",
        "    Returns:\n",
        "        model: Trained Keras model.\n",
        "    \"\"\"\n",
        "    df = prepare_tweet_dataframe(train_fn)\n",
        "\n",
        "    # Define features and target\n",
        "    X = df[[\n",
        "    \"tweet text\", \"tweet time\", \"year\", \"tweet length\", \"hour\",\n",
        "    \"full_caps_count\", \"init_caps_count\", \"non_letter_count\",\n",
        "    \"num_nouns\", \"num_verbs\", \"num_adjs\", \"num_advs\", \"num_pronouns\"\n",
        "]]\n",
        "\n",
        "    y = df[\"class\"]\n",
        "\n",
        "    # Preprocessing: TF-IDF, One-Hot, Scaler\n",
        "    preprocessor = ColumnTransformer(transformers=[\n",
        "        ('text', TfidfVectorizer(max_features=max_features, stop_words='english'), 'tweet text'),\n",
        "        ('cat', OneHotEncoder(), ['tweet time', 'year']),\n",
        "        ('num', StandardScaler(), [\n",
        "    'tweet length', 'hour',\n",
        "    'full_caps_count', 'init_caps_count', 'non_letter_count',\n",
        "    'num_nouns', 'num_verbs', 'num_adjs', 'num_advs', 'num_pronouns'\n",
        "])\n",
        "        ])\n",
        "\n",
        "\n",
        "    # Fit and transform\n",
        "    X_processed = preprocessor.fit_transform(X)\n",
        "    input_dim = X_processed.shape[1]\n",
        "\n",
        "    # Split\n",
        "    X_train, X_test, y_train, y_test = train_test_split(\n",
        "        X_processed, y, test_size=0.2, random_state=42\n",
        "    )\n",
        "\n",
        "    # Build and train model\n",
        "    model = build_ffnn_model(input_dim)\n",
        "    model.fit(X_train.toarray(), y_train, epochs=epochs, batch_size=batch_size, verbose=1)\n",
        "\n",
        "    # Evaluation\n",
        "    y_prob = model.predict(X_test.toarray())  # Predicted probabilities\n",
        "    y_pred = y_prob > 0.5  # Threshold for binary prediction\n",
        "\n",
        "    acc = accuracy_score(y_test, y_pred)\n",
        "    auc = roc_auc_score(y_test, y_prob)\n",
        "    report = classification_report(y_test, y_pred)\n",
        "\n",
        "    print(f\"\\nAccuracy: {acc:.4f}\")\n",
        "    print(f\"AUC: {auc:.4f}\")\n",
        "    print(\"\\nClassification Report:\\n\", report)\n",
        "\n",
        "    return model, preprocessor"
      ],
      "metadata": {
        "id": "b5etkOCW3R2m"
      },
      "execution_count": 21,
      "outputs": []
    },
    {
      "cell_type": "code",
      "source": [
        "FFNN_model, preprocessor = train_ffnn_classifier(\"/content/trump_train.tsv\", epochs=15, batch_size=64)"
      ],
      "metadata": {
        "colab": {
          "base_uri": "https://localhost:8080/"
        },
        "id": "RdEQu19W4eP0",
        "outputId": "58b596f0-9184-49d6-db4c-43814b3b7391"
      },
      "execution_count": 22,
      "outputs": [
        {
          "output_type": "stream",
          "name": "stderr",
          "text": [
            "/usr/local/lib/python3.11/dist-packages/keras/src/layers/core/dense.py:87: UserWarning: Do not pass an `input_shape`/`input_dim` argument to a layer. When using Sequential models, prefer using an `Input(shape)` object as the first layer in the model instead.\n",
            "  super().__init__(activity_regularizer=activity_regularizer, **kwargs)\n"
          ]
        },
        {
          "output_type": "stream",
          "name": "stdout",
          "text": [
            "Epoch 1/15\n",
            "\u001b[1m37/37\u001b[0m \u001b[32m━━━━━━━━━━━━━━━━━━━━\u001b[0m\u001b[37m\u001b[0m \u001b[1m8s\u001b[0m 90ms/step - accuracy: 0.6506 - loss: 0.6380\n",
            "Epoch 2/15\n",
            "\u001b[1m37/37\u001b[0m \u001b[32m━━━━━━━━━━━━━━━━━━━━\u001b[0m\u001b[37m\u001b[0m \u001b[1m0s\u001b[0m 3ms/step - accuracy: 0.8475 - loss: 0.3661\n",
            "Epoch 3/15\n",
            "\u001b[1m37/37\u001b[0m \u001b[32m━━━━━━━━━━━━━━━━━━━━\u001b[0m\u001b[37m\u001b[0m \u001b[1m0s\u001b[0m 4ms/step - accuracy: 0.9376 - loss: 0.1995\n",
            "Epoch 4/15\n",
            "\u001b[1m37/37\u001b[0m \u001b[32m━━━━━━━━━━━━━━━━━━━━\u001b[0m\u001b[37m\u001b[0m \u001b[1m0s\u001b[0m 3ms/step - accuracy: 0.9620 - loss: 0.1278\n",
            "Epoch 5/15\n",
            "\u001b[1m37/37\u001b[0m \u001b[32m━━━━━━━━━━━━━━━━━━━━\u001b[0m\u001b[37m\u001b[0m \u001b[1m0s\u001b[0m 4ms/step - accuracy: 0.9912 - loss: 0.0422\n",
            "Epoch 6/15\n",
            "\u001b[1m37/37\u001b[0m \u001b[32m━━━━━━━━━━━━━━━━━━━━\u001b[0m\u001b[37m\u001b[0m \u001b[1m0s\u001b[0m 3ms/step - accuracy: 0.9856 - loss: 0.0478\n",
            "Epoch 7/15\n",
            "\u001b[1m37/37\u001b[0m \u001b[32m━━━━━━━━━━━━━━━━━━━━\u001b[0m\u001b[37m\u001b[0m \u001b[1m0s\u001b[0m 3ms/step - accuracy: 0.9921 - loss: 0.0436\n",
            "Epoch 8/15\n",
            "\u001b[1m37/37\u001b[0m \u001b[32m━━━━━━━━━━━━━━━━━━━━\u001b[0m\u001b[37m\u001b[0m \u001b[1m0s\u001b[0m 3ms/step - accuracy: 0.9968 - loss: 0.0125\n",
            "Epoch 9/15\n",
            "\u001b[1m37/37\u001b[0m \u001b[32m━━━━━━━━━━━━━━━━━━━━\u001b[0m\u001b[37m\u001b[0m \u001b[1m0s\u001b[0m 4ms/step - accuracy: 0.9953 - loss: 0.0179\n",
            "Epoch 10/15\n",
            "\u001b[1m37/37\u001b[0m \u001b[32m━━━━━━━━━━━━━━━━━━━━\u001b[0m\u001b[37m\u001b[0m \u001b[1m0s\u001b[0m 4ms/step - accuracy: 0.9968 - loss: 0.0197\n",
            "Epoch 11/15\n",
            "\u001b[1m37/37\u001b[0m \u001b[32m━━━━━━━━━━━━━━━━━━━━\u001b[0m\u001b[37m\u001b[0m \u001b[1m0s\u001b[0m 3ms/step - accuracy: 0.9938 - loss: 0.0457\n",
            "Epoch 12/15\n",
            "\u001b[1m37/37\u001b[0m \u001b[32m━━━━━━━━━━━━━━━━━━━━\u001b[0m\u001b[37m\u001b[0m \u001b[1m0s\u001b[0m 3ms/step - accuracy: 0.9993 - loss: 0.0048\n",
            "Epoch 13/15\n",
            "\u001b[1m37/37\u001b[0m \u001b[32m━━━━━━━━━━━━━━━━━━━━\u001b[0m\u001b[37m\u001b[0m \u001b[1m0s\u001b[0m 4ms/step - accuracy: 0.9978 - loss: 0.0075\n",
            "Epoch 14/15\n",
            "\u001b[1m37/37\u001b[0m \u001b[32m━━━━━━━━━━━━━━━━━━━━\u001b[0m\u001b[37m\u001b[0m \u001b[1m0s\u001b[0m 4ms/step - accuracy: 0.9956 - loss: 0.0108\n",
            "Epoch 15/15\n",
            "\u001b[1m37/37\u001b[0m \u001b[32m━━━━━━━━━━━━━━━━━━━━\u001b[0m\u001b[37m\u001b[0m \u001b[1m0s\u001b[0m 4ms/step - accuracy: 0.9975 - loss: 0.0121\n",
            "\u001b[1m19/19\u001b[0m \u001b[32m━━━━━━━━━━━━━━━━━━━━\u001b[0m\u001b[37m\u001b[0m \u001b[1m1s\u001b[0m 20ms/step\n",
            "\n",
            "Accuracy: 0.8566\n",
            "AUC: 0.9179\n",
            "\n",
            "Classification Report:\n",
            "               precision    recall  f1-score   support\n",
            "\n",
            "           0       0.91      0.88      0.90       405\n",
            "           1       0.75      0.79      0.77       174\n",
            "\n",
            "    accuracy                           0.86       579\n",
            "   macro avg       0.83      0.84      0.83       579\n",
            "weighted avg       0.86      0.86      0.86       579\n",
            "\n"
          ]
        }
      ]
    },
    {
      "cell_type": "markdown",
      "source": [
        "# XGBoost function"
      ],
      "metadata": {
        "id": "mvu5w_bOb5Eb"
      }
    },
    {
      "cell_type": "code",
      "source": [
        "def train_xgb_classifier(train_fn: str) -> Pipeline:\n",
        "    \"\"\"\n",
        "    Loads tweet data, processes features, and trains an XGBoost classifier\n",
        "    to classify tweets as written by Trump (0) or a staffer (1).\n",
        "\n",
        "    Args:\n",
        "        train_fn (str): Path to TSV file with tweet data.\n",
        "\n",
        "    Returns:\n",
        "        pipeline (Pipeline): Trained sklearn pipeline with preprocessing and XGBoost.\n",
        "    \"\"\"\n",
        "    # Load & prepare data\n",
        "    df = prepare_tweet_dataframe(train_fn)\n",
        "\n",
        "    # Features & labels\n",
        "    X = df[[\n",
        "        \"tweet text\", \"tweet time\", \"year\", \"tweet length\", \"hour\",\n",
        "        \"full_caps_count\", \"init_caps_count\", \"non_letter_count\",\n",
        "        \"num_nouns\", \"num_verbs\", \"num_adjs\", \"num_advs\", \"num_pronouns\"\n",
        "    ]]\n",
        "    y = df[\"class\"]\n",
        "\n",
        "    # Preprocessing steps\n",
        "    preprocessor = ColumnTransformer(transformers=[\n",
        "        ('text', TfidfVectorizer(max_features=3000, stop_words='english'), 'tweet text'),\n",
        "        ('cat', OneHotEncoder(handle_unknown='ignore'), ['tweet time', 'year']),\n",
        "        ('num', StandardScaler(), [\n",
        "            'tweet length', 'hour',\n",
        "            'full_caps_count', 'init_caps_count', 'non_letter_count',\n",
        "            'num_nouns', 'num_verbs', 'num_adjs', 'num_advs', 'num_pronouns'\n",
        "        ])\n",
        "    ])\n",
        "\n",
        "    # Full pipeline\n",
        "    pipeline = Pipeline(steps=[\n",
        "        ('preprocessor', preprocessor),\n",
        "        ('classifier', XGBClassifier(use_label_encoder=False, eval_metric='logloss', random_state=42))\n",
        "    ])\n",
        "\n",
        "    # Split data\n",
        "    X_train, X_test, y_train, y_test = train_test_split(\n",
        "        X, y, test_size=0.2, random_state=42\n",
        "    )\n",
        "\n",
        "    # Train\n",
        "    pipeline.fit(X_train, y_train)\n",
        "\n",
        "    # Predict\n",
        "    y_pred = pipeline.predict(X_test)\n",
        "    y_prob = pipeline.predict_proba(X_test)[:, 1]\n",
        "\n",
        "    # Evaluation\n",
        "    acc = accuracy_score(y_test, y_pred)\n",
        "    auc = roc_auc_score(y_test, y_prob)\n",
        "    report = classification_report(y_test, y_pred)\n",
        "\n",
        "    print(f\"XGBoost Classifier Results\")\n",
        "    print(f\"Accuracy: {acc:.4f}\")\n",
        "    print(f\"AUC: {auc:.4f}\")\n",
        "    print(\"\\nClassification Report:\\n\", report)\n",
        "\n",
        "    return pipeline"
      ],
      "metadata": {
        "id": "t8QdEosOaNQU"
      },
      "execution_count": 23,
      "outputs": []
    },
    {
      "cell_type": "code",
      "source": [
        "XGB_model = train_xgb_classifier(\"/content/trump_train.tsv\")"
      ],
      "metadata": {
        "colab": {
          "base_uri": "https://localhost:8080/"
        },
        "id": "R5AlfuOYmzTm",
        "outputId": "1d18afba-eec8-4bef-d815-577780d6d8c8"
      },
      "execution_count": 24,
      "outputs": [
        {
          "output_type": "stream",
          "name": "stderr",
          "text": [
            "/usr/local/lib/python3.11/dist-packages/xgboost/core.py:158: UserWarning: [13:12:06] WARNING: /workspace/src/learner.cc:740: \n",
            "Parameters: { \"use_label_encoder\" } are not used.\n",
            "\n",
            "  warnings.warn(smsg, UserWarning)\n"
          ]
        },
        {
          "output_type": "stream",
          "name": "stdout",
          "text": [
            "XGBoost Classifier Results\n",
            "Accuracy: 0.8912\n",
            "AUC: 0.9445\n",
            "\n",
            "Classification Report:\n",
            "               precision    recall  f1-score   support\n",
            "\n",
            "           0       0.91      0.94      0.92       405\n",
            "           1       0.85      0.78      0.81       174\n",
            "\n",
            "    accuracy                           0.89       579\n",
            "   macro avg       0.88      0.86      0.87       579\n",
            "weighted avg       0.89      0.89      0.89       579\n",
            "\n"
          ]
        }
      ]
    },
    {
      "cell_type": "markdown",
      "source": [
        "# Transformer function"
      ],
      "metadata": {
        "id": "JkUgKGIPb9r0"
      }
    },
    {
      "cell_type": "code",
      "source": [
        "def prepare_transformer_dataset(train_fn: str):\n",
        "    # Load & clean\n",
        "    columns = [\"tweet id\", \"user handle\", \"tweet text\", \"time stamp\", \"device\"]\n",
        "    df = pd.read_csv(train_fn, sep='\\t', names=columns)\n",
        "\n",
        "    # Convert 'device' column to StringDtype, handling potential non-string or NaN values\n",
        "    df[\"device\"] = df[\"device\"].astype(pd.StringDtype())\n",
        "\n",
        "    df[\"time stamp\"] = pd.to_datetime(df[\"time stamp\"], errors='coerce')\n",
        "    df.dropna(subset=[\"tweet text\", \"device\", \"time stamp\"], inplace=True)\n",
        "\n",
        "    df = df[df[\"device\"].isin([\"android\", \"iphone\"])]\n",
        "    df = df[df[\"user handle\"] == \"realDonaldTrump\"]\n",
        "\n",
        "    df[\"label\"] = df[\"device\"].str.lower().str.contains(\"iphone\").astype(int)\n",
        "\n",
        "    return df[[\"tweet text\", \"label\"]]\n",
        "\n",
        "def tokenize_and_train_bert(train_fn: str):\n",
        "    df = prepare_transformer_dataset(train_fn)\n",
        "\n",
        "    # Split data\n",
        "    train_texts, val_texts, train_labels, val_labels = train_test_split(\n",
        "        df[\"tweet text\"].tolist(), df[\"label\"].tolist(), test_size=0.2, random_state=42\n",
        "    )\n",
        "\n",
        "    tokenizer = BertTokenizer.from_pretrained(\"bert-base-uncased\")\n",
        "\n",
        "    train_encodings = tokenizer(train_texts, truncation=True, padding=True)\n",
        "    val_encodings = tokenizer(val_texts, truncation=True, padding=True)\n",
        "\n",
        "    # HuggingFace Dataset\n",
        "    train_dataset = Dataset.from_dict({\n",
        "        \"input_ids\": train_encodings[\"input_ids\"],\n",
        "        \"attention_mask\": train_encodings[\"attention_mask\"],\n",
        "        \"label\": train_labels\n",
        "    })\n",
        "\n",
        "    val_dataset = Dataset.from_dict({\n",
        "        \"input_ids\": val_encodings[\"input_ids\"],\n",
        "        \"attention_mask\": val_encodings[\"attention_mask\"],\n",
        "        \"label\": val_labels\n",
        "    })\n",
        "\n",
        "    model = BertForSequenceClassification.from_pretrained(\"bert-base-uncased\", num_labels=2)\n",
        "\n",
        "    training_args = TrainingArguments(\n",
        "        output_dir=\"./bert-results\",\n",
        "        eval_strategy=\"epoch\",\n",
        "        save_strategy=\"epoch\",\n",
        "        per_device_train_batch_size=16,\n",
        "        per_device_eval_batch_size=16,\n",
        "        num_train_epochs=3,\n",
        "        weight_decay=0.01,\n",
        "        logging_dir='./logs',\n",
        "        logging_steps=10,\n",
        "        load_best_model_at_end=True,\n",
        "        metric_for_best_model=\"accuracy\"\n",
        "    )\n",
        "\n",
        "    def compute_metrics(eval_pred):\n",
        "        logits, labels = eval_pred\n",
        "        preds = logits.argmax(-1)\n",
        "        acc = accuracy_score(labels, preds)\n",
        "        auc = roc_auc_score(labels, logits[:, 1])\n",
        "        report = classification_report(labels, preds, output_dict=False)\n",
        "        print(report)\n",
        "        return {\"accuracy\": acc, \"auc\": auc}\n",
        "\n",
        "    trainer = Trainer(\n",
        "        model=model,\n",
        "        args=training_args,\n",
        "        train_dataset=train_dataset,\n",
        "        eval_dataset=val_dataset,\n",
        "        tokenizer=tokenizer,\n",
        "        data_collator=DataCollatorWithPadding(tokenizer),\n",
        "        compute_metrics=compute_metrics\n",
        "    )\n",
        "\n",
        "    trainer.train()\n",
        "    return trainer"
      ],
      "metadata": {
        "id": "U1LPyhRLnCWl"
      },
      "execution_count": 28,
      "outputs": []
    },
    {
      "cell_type": "code",
      "source": [
        "transformer_model = tokenize_and_train_bert(\"/content/trump_train.tsv\")"
      ],
      "metadata": {
        "colab": {
          "base_uri": "https://localhost:8080/",
          "height": 1000,
          "referenced_widgets": [
            "3195bb05eb584e27be2ac947af368846",
            "c2c43bfb6ccf4462b25f004c07803291",
            "2302cdde0f6a44bd89e6661d76b52b75",
            "4cdfcc8e27ae47bb80e5c2a83f890ae1",
            "374f4ab7471f4187bb36dd50c26f0e36",
            "1911d27ec9aa4cf2b27f197e9840df4e",
            "765561684f1348c189aa03534e0fa76d",
            "0eddc76390774260a37ee05727406fff",
            "48701fc3877a4ce9ab091d3e02dec655",
            "988982aff9a240b4aa5eaecbc985fdc7",
            "9eb4414905dc4afdb23334568955b21c",
            "3e1c70a60881456e9152e3279bf42e5a",
            "e533afd59ce24df18ef19ba167910be1",
            "96ed1bbebe4b451cb088970aaff7c89e",
            "30d01758d8f442a9bff839f6e7c80647",
            "148c84b88af34bedbc56e3e1e5529416",
            "b2f2702f81a84699871e8afd54036cca",
            "d4d083596ef8401db13f406cf8e8aa13",
            "3f1f497bb15f489782ecd7b6e2a7bc86",
            "78992aa6ec1b4292958e628cee61b60a",
            "203b32b5fefc465e8fc726bdb330250e",
            "e857acb1bd634998a3745976a993187b",
            "79d09e8c080641c69b0859cdf37ee6c6",
            "6f1e29afa2ba47a1b5c4c282f8f201a0",
            "7a920c1b42f548c7a42017e15f6fea18",
            "a03a0157c60b47869ca20262f8fe84d7",
            "fe3973706f3a46d09a76371564787e01",
            "a9e837d1976642fdacc49ef5f8112efe",
            "cc61620b4e544145bbd7e61595923e49",
            "fa586214e67d49fabc68bd8cae244a91",
            "4f9079df6d5b43b89a5946fe7a586a3e",
            "9f30341ade7d497a86302c1532becdca",
            "e6f43f6c57ae4b6393abd9569bef0ebf",
            "e5de53405cee492fafa98440d870de0a",
            "1047e774aa444032b994421d2c5f54fa",
            "c3deb8a1936a472c95be299d388017e1",
            "8ec61f9c63b4424f93affbcf0780a83b",
            "15036229123f4628a547077c507cfd56",
            "d33e25e62bf94d7f95c22c0d9d1c6837",
            "fb64d522af584dff9c3ae6a6c237a1aa",
            "20f45b13373a431996e4763bddd6e4de",
            "4c78363ec64e48869e60e40af14fe1cb",
            "bbec1732df02483db52a168c7f76fcc7",
            "361351e36c54428eb2666458be9d6466",
            "7dd3458965bb403ea857ed43198ad260",
            "c6b5bb2410d143778c636e1f78730875",
            "ab0b6a4b0fe44689a0da4bd4d336c3cf",
            "db642daff7484b9f80d7f4dc9e4fa7e3",
            "f31d506349bc43b2b4a632b56035ff8c",
            "996094987eae4ca8a847e79a279695c2",
            "d02acc22a6884b6f9335567a9a9cf6c1",
            "4a1dd6da11044870ac2ab7e32fd54662",
            "7f1127112cc743f38514124da738a94e",
            "1a11be4ebfb1462bb76a1b391355fe61",
            "c5047e8db6374f28bbbaed5a030f4135"
          ]
        },
        "id": "KNekwpeXrTXz",
        "outputId": "41096c7c-4381-4b29-ea5d-468f26b1227a"
      },
      "execution_count": 29,
      "outputs": [
        {
          "output_type": "stream",
          "name": "stderr",
          "text": [
            "/usr/local/lib/python3.11/dist-packages/huggingface_hub/utils/_auth.py:94: UserWarning: \n",
            "The secret `HF_TOKEN` does not exist in your Colab secrets.\n",
            "To authenticate with the Hugging Face Hub, create a token in your settings tab (https://huggingface.co/settings/tokens), set it as secret in your Google Colab and restart your session.\n",
            "You will be able to reuse this secret in all of your notebooks.\n",
            "Please note that authentication is recommended but still optional to access public models or datasets.\n",
            "  warnings.warn(\n"
          ]
        },
        {
          "output_type": "display_data",
          "data": {
            "text/plain": [
              "tokenizer_config.json:   0%|          | 0.00/48.0 [00:00<?, ?B/s]"
            ],
            "application/vnd.jupyter.widget-view+json": {
              "version_major": 2,
              "version_minor": 0,
              "model_id": "3195bb05eb584e27be2ac947af368846"
            }
          },
          "metadata": {}
        },
        {
          "output_type": "display_data",
          "data": {
            "text/plain": [
              "vocab.txt:   0%|          | 0.00/232k [00:00<?, ?B/s]"
            ],
            "application/vnd.jupyter.widget-view+json": {
              "version_major": 2,
              "version_minor": 0,
              "model_id": "3e1c70a60881456e9152e3279bf42e5a"
            }
          },
          "metadata": {}
        },
        {
          "output_type": "display_data",
          "data": {
            "text/plain": [
              "tokenizer.json:   0%|          | 0.00/466k [00:00<?, ?B/s]"
            ],
            "application/vnd.jupyter.widget-view+json": {
              "version_major": 2,
              "version_minor": 0,
              "model_id": "79d09e8c080641c69b0859cdf37ee6c6"
            }
          },
          "metadata": {}
        },
        {
          "output_type": "display_data",
          "data": {
            "text/plain": [
              "config.json:   0%|          | 0.00/570 [00:00<?, ?B/s]"
            ],
            "application/vnd.jupyter.widget-view+json": {
              "version_major": 2,
              "version_minor": 0,
              "model_id": "e5de53405cee492fafa98440d870de0a"
            }
          },
          "metadata": {}
        },
        {
          "output_type": "display_data",
          "data": {
            "text/plain": [
              "model.safetensors:   0%|          | 0.00/440M [00:00<?, ?B/s]"
            ],
            "application/vnd.jupyter.widget-view+json": {
              "version_major": 2,
              "version_minor": 0,
              "model_id": "7dd3458965bb403ea857ed43198ad260"
            }
          },
          "metadata": {}
        },
        {
          "output_type": "stream",
          "name": "stderr",
          "text": [
            "Some weights of BertForSequenceClassification were not initialized from the model checkpoint at bert-base-uncased and are newly initialized: ['classifier.bias', 'classifier.weight']\n",
            "You should probably TRAIN this model on a down-stream task to be able to use it for predictions and inference.\n",
            "<ipython-input-28-5e1a5f88e9a7>:70: FutureWarning: `tokenizer` is deprecated and will be removed in version 5.0.0 for `Trainer.__init__`. Use `processing_class` instead.\n",
            "  trainer = Trainer(\n",
            "\u001b[34m\u001b[1mwandb\u001b[0m: \u001b[33mWARNING\u001b[0m The `run_name` is currently set to the same value as `TrainingArguments.output_dir`. If this was not intended, please specify a different run name by setting the `TrainingArguments.run_name` parameter.\n"
          ]
        },
        {
          "output_type": "display_data",
          "data": {
            "text/plain": [
              "<IPython.core.display.Javascript object>"
            ],
            "application/javascript": [
              "\n",
              "        window._wandbApiKey = new Promise((resolve, reject) => {\n",
              "            function loadScript(url) {\n",
              "            return new Promise(function(resolve, reject) {\n",
              "                let newScript = document.createElement(\"script\");\n",
              "                newScript.onerror = reject;\n",
              "                newScript.onload = resolve;\n",
              "                document.body.appendChild(newScript);\n",
              "                newScript.src = url;\n",
              "            });\n",
              "            }\n",
              "            loadScript(\"https://cdn.jsdelivr.net/npm/postmate/build/postmate.min.js\").then(() => {\n",
              "            const iframe = document.createElement('iframe')\n",
              "            iframe.style.cssText = \"width:0;height:0;border:none\"\n",
              "            document.body.appendChild(iframe)\n",
              "            const handshake = new Postmate({\n",
              "                container: iframe,\n",
              "                url: 'https://wandb.ai/authorize'\n",
              "            });\n",
              "            const timeout = setTimeout(() => reject(\"Couldn't auto authenticate\"), 5000)\n",
              "            handshake.then(function(child) {\n",
              "                child.on('authorize', data => {\n",
              "                    clearTimeout(timeout)\n",
              "                    resolve(data)\n",
              "                });\n",
              "            });\n",
              "            })\n",
              "        });\n",
              "    "
            ]
          },
          "metadata": {}
        },
        {
          "output_type": "stream",
          "name": "stderr",
          "text": [
            "\u001b[34m\u001b[1mwandb\u001b[0m: Logging into wandb.ai. (Learn how to deploy a W&B server locally: https://wandb.me/wandb-server)\n",
            "\u001b[34m\u001b[1mwandb\u001b[0m: You can find your API key in your browser here: https://wandb.ai/authorize?ref=models\n",
            "wandb: Paste an API key from your profile and hit enter:"
          ]
        },
        {
          "name": "stdout",
          "output_type": "stream",
          "text": [
            " ··········\n"
          ]
        },
        {
          "output_type": "stream",
          "name": "stderr",
          "text": [
            "\u001b[34m\u001b[1mwandb\u001b[0m: \u001b[33mWARNING\u001b[0m If you're specifying your api key in code, ensure this code is not shared publicly.\n",
            "\u001b[34m\u001b[1mwandb\u001b[0m: \u001b[33mWARNING\u001b[0m Consider setting the WANDB_API_KEY environment variable, or running `wandb login` from the command line.\n",
            "\u001b[34m\u001b[1mwandb\u001b[0m: No netrc file found, creating one.\n",
            "\u001b[34m\u001b[1mwandb\u001b[0m: Appending key for api.wandb.ai to your netrc file: /root/.netrc\n",
            "\u001b[34m\u001b[1mwandb\u001b[0m: Currently logged in as: \u001b[33mnadavtoledo1\u001b[0m (\u001b[33mnadavtoledo1-ben-gurion-university-of-the-negev\u001b[0m) to \u001b[32mhttps://api.wandb.ai\u001b[0m. Use \u001b[1m`wandb login --relogin`\u001b[0m to force relogin\n"
          ]
        },
        {
          "output_type": "display_data",
          "data": {
            "text/plain": [
              "<IPython.core.display.HTML object>"
            ],
            "text/html": [
              "Tracking run with wandb version 0.19.11"
            ]
          },
          "metadata": {}
        },
        {
          "output_type": "display_data",
          "data": {
            "text/plain": [
              "<IPython.core.display.HTML object>"
            ],
            "text/html": [
              "Run data is saved locally in <code>/content/wandb/run-20250604_124156-ljqa20qo</code>"
            ]
          },
          "metadata": {}
        },
        {
          "output_type": "display_data",
          "data": {
            "text/plain": [
              "<IPython.core.display.HTML object>"
            ],
            "text/html": [
              "Syncing run <strong><a href='https://wandb.ai/nadavtoledo1-ben-gurion-university-of-the-negev/huggingface/runs/ljqa20qo' target=\"_blank\">./bert-results</a></strong> to <a href='https://wandb.ai/nadavtoledo1-ben-gurion-university-of-the-negev/huggingface' target=\"_blank\">Weights & Biases</a> (<a href='https://wandb.me/developer-guide' target=\"_blank\">docs</a>)<br>"
            ]
          },
          "metadata": {}
        },
        {
          "output_type": "display_data",
          "data": {
            "text/plain": [
              "<IPython.core.display.HTML object>"
            ],
            "text/html": [
              " View project at <a href='https://wandb.ai/nadavtoledo1-ben-gurion-university-of-the-negev/huggingface' target=\"_blank\">https://wandb.ai/nadavtoledo1-ben-gurion-university-of-the-negev/huggingface</a>"
            ]
          },
          "metadata": {}
        },
        {
          "output_type": "display_data",
          "data": {
            "text/plain": [
              "<IPython.core.display.HTML object>"
            ],
            "text/html": [
              " View run at <a href='https://wandb.ai/nadavtoledo1-ben-gurion-university-of-the-negev/huggingface/runs/ljqa20qo' target=\"_blank\">https://wandb.ai/nadavtoledo1-ben-gurion-university-of-the-negev/huggingface/runs/ljqa20qo</a>"
            ]
          },
          "metadata": {}
        },
        {
          "output_type": "display_data",
          "data": {
            "text/plain": [
              "<IPython.core.display.HTML object>"
            ],
            "text/html": [
              "\n",
              "    <div>\n",
              "      \n",
              "      <progress value='435' max='435' style='width:300px; height:20px; vertical-align: middle;'></progress>\n",
              "      [435/435 11:57, Epoch 3/3]\n",
              "    </div>\n",
              "    <table border=\"1\" class=\"dataframe\">\n",
              "  <thead>\n",
              " <tr style=\"text-align: left;\">\n",
              "      <th>Epoch</th>\n",
              "      <th>Training Loss</th>\n",
              "      <th>Validation Loss</th>\n",
              "      <th>Accuracy</th>\n",
              "      <th>Auc</th>\n",
              "    </tr>\n",
              "  </thead>\n",
              "  <tbody>\n",
              "    <tr>\n",
              "      <td>1</td>\n",
              "      <td>0.289300</td>\n",
              "      <td>0.299125</td>\n",
              "      <td>0.894646</td>\n",
              "      <td>0.933390</td>\n",
              "    </tr>\n",
              "    <tr>\n",
              "      <td>2</td>\n",
              "      <td>0.162900</td>\n",
              "      <td>0.235506</td>\n",
              "      <td>0.922280</td>\n",
              "      <td>0.963360</td>\n",
              "    </tr>\n",
              "    <tr>\n",
              "      <td>3</td>\n",
              "      <td>0.106100</td>\n",
              "      <td>0.293482</td>\n",
              "      <td>0.918826</td>\n",
              "      <td>0.963786</td>\n",
              "    </tr>\n",
              "  </tbody>\n",
              "</table><p>"
            ]
          },
          "metadata": {}
        },
        {
          "output_type": "stream",
          "name": "stdout",
          "text": [
            "              precision    recall  f1-score   support\n",
            "\n",
            "           0       0.91      0.95      0.93       405\n",
            "           1       0.86      0.78      0.82       174\n",
            "\n",
            "    accuracy                           0.89       579\n",
            "   macro avg       0.88      0.86      0.87       579\n",
            "weighted avg       0.89      0.89      0.89       579\n",
            "\n",
            "              precision    recall  f1-score   support\n",
            "\n",
            "           0       0.92      0.98      0.95       405\n",
            "           1       0.94      0.79      0.86       174\n",
            "\n",
            "    accuracy                           0.92       579\n",
            "   macro avg       0.93      0.89      0.90       579\n",
            "weighted avg       0.92      0.92      0.92       579\n",
            "\n",
            "              precision    recall  f1-score   support\n",
            "\n",
            "           0       0.94      0.95      0.94       405\n",
            "           1       0.87      0.86      0.86       174\n",
            "\n",
            "    accuracy                           0.92       579\n",
            "   macro avg       0.91      0.90      0.90       579\n",
            "weighted avg       0.92      0.92      0.92       579\n",
            "\n"
          ]
        }
      ]
    },
    {
      "cell_type": "markdown",
      "source": [
        "# Summary"
      ],
      "metadata": {
        "id": "liyhFDaVz_0-"
      }
    },
    {
      "cell_type": "code",
      "source": [
        "# Data\n",
        "data = {\n",
        "    \"Classifier\": [\n",
        "        \"Logistic Regression\", \"Linear SVM\", \"Non-Linear SVM\",\n",
        "        \"FFNN\", \"XGBoost\", \"Transformer\"\n",
        "    ],\n",
        "    \"Accuracy\": [0.8705, 0.8739, 0.8722, 0.8791, 0.8912, 0.9188],\n",
        "    \"AUC\": [0.9286, 0.9375, 0.9116, 0.9195, 0.9445, 0.9637],\n",
        "    \"F1 (Staffer)\": [0.77, 0.78, 0.76, 0.78, 0.81, 0.86],\n",
        "    \"Macro F1\": [0.84, 0.85, 0.84, 0.85, 0.87, 0.90]\n",
        "}\n",
        "\n",
        "df = pd.DataFrame(data)\n",
        "\n",
        "# Plot\n",
        "fig, ax = plt.subplots(figsize=(12, 6))\n",
        "metrics = [\"Accuracy\", \"AUC\", \"F1 (Staffer)\", \"Macro F1\"]\n",
        "bar_width = 0.18\n",
        "x = range(len(df[\"Classifier\"]))\n",
        "\n",
        "for i, metric in enumerate(metrics):\n",
        "    ax.bar(\n",
        "        [p + i * bar_width for p in x],\n",
        "        df[metric],\n",
        "        width=bar_width,\n",
        "        label=metric\n",
        "    )\n",
        "\n",
        "ax.set_xlabel(\"Classifier\")\n",
        "ax.set_ylabel(\"Score\")\n",
        "ax.set_title(\"Classifier Performance Comparison\")\n",
        "ax.set_xticks([p + 1.5 * bar_width for p in x])\n",
        "ax.set_xticklabels(df[\"Classifier\"], rotation=45)\n",
        "ax.set_ylim(0.7, 1.0)\n",
        "ax.legend(loc=\"lower right\")\n",
        "ax.grid(axis='y', linestyle='--', alpha=0.7)\n",
        "\n",
        "plt.tight_layout()\n",
        "plt.show()\n"
      ],
      "metadata": {
        "colab": {
          "base_uri": "https://localhost:8080/",
          "height": 607
        },
        "id": "5Hmup0Ggj4Pq",
        "outputId": "bdcdd696-1673-4efa-f255-7fb5aec25e05"
      },
      "execution_count": 38,
      "outputs": [
        {
          "output_type": "display_data",
          "data": {
            "text/plain": [
              "<Figure size 1200x600 with 1 Axes>"
            ],
            "image/png": "[encoded data removed]"
          },
          "metadata": {}
        }
      ]
    },
    {
      "cell_type": "code",
      "source": [
        "# Create a dataframe with the results\n",
        "data = {\n",
        "    \"Classifier\": [\n",
        "        \"Logistic Regression\", \"Linear SVM\", \"Non-Linear SVM\",\n",
        "        \"FFNN\", \"XGBoost\", \"Transformer\"\n",
        "    ],\n",
        "    \"Accuracy\": [0.8705, 0.8739, 0.8722, 0.8791, 0.8912, 0.9188],\n",
        "    \"AUC\": [0.9286, 0.9375, 0.9116, 0.9195, 0.9445, 0.9637],\n",
        "    \"F1 (Staffer)\": [0.77, 0.78, 0.76, 0.78, 0.81, 0.86],\n",
        "    \"Macro F1\": [0.84, 0.85, 0.84, 0.85, 0.87, 0.90]\n",
        "}\n",
        "\n",
        "df = pd.DataFrame(data)\n",
        "df.set_index(\"Classifier\", inplace=True)\n",
        "df = df.transpose()  # Transpose so that metrics are on the x-axis\n",
        "\n",
        "# Plot\n",
        "plt.figure(figsize=(10, 6))\n",
        "df.plot(kind='bar', figsize=(12, 6))\n",
        "plt.title(\"Classifier Performance by Metric\")\n",
        "plt.xlabel(\"Metric\")\n",
        "plt.ylabel(\"Score\")\n",
        "plt.ylim(0.7, 1.0)\n",
        "plt.grid(axis='y', linestyle='--', alpha=0.7)\n",
        "plt.legend(title=\"Classifier\", bbox_to_anchor=(1.05, 1), loc='upper left')\n",
        "plt.tight_layout()\n",
        "plt.show()\n"
      ],
      "metadata": {
        "colab": {
          "base_uri": "https://localhost:8080/",
          "height": 625
        },
        "id": "cml9t4tjkSq0",
        "outputId": "d3cd66c4-12b3-439b-c63c-f46806904739"
      },
      "execution_count": 39,
      "outputs": [
        {
          "output_type": "display_data",
          "data": {
            "text/plain": [
              "<Figure size 1000x600 with 0 Axes>"
            ]
          },
          "metadata": {}
        },
        {
          "output_type": "display_data",
          "data": {
            "text/plain": [
              "<Figure size 1200x600 with 1 Axes>"
            ],
            "image/png": "[encoded data removed]"
          },
          "metadata": {}
        }
      ]
    },
    {
      "cell_type": "markdown",
      "source": [
        "# Main functions"
      ],
      "metadata": {
        "id": "D5gOVHkm6tbX"
      }
    },
    {
      "cell_type": "markdown",
      "source": [
        "Your notebook should support the following functions:"
      ],
      "metadata": {
        "id": "JMEN3rBq1_wL"
      }
    },
    {
      "cell_type": "code",
      "source": [
        "def training_pipeline(alg, train_fn):\n",
        "  \"\"\"Returns a trained model given the specific task and algorithm.\n",
        "      The pipeline should include all necessary steps that are needed for the\n",
        "      specified algoritm (preprocessing, normalization, feature extraction - depending\n",
        "      on your choice and decisions). Obviously, it is advised to implement the pipeline\n",
        "      through a sequence of function calls.\n",
        "\n",
        "    Args:\n",
        "\n",
        "        alg (int): an integer between 1-5, indicating the algorithmic approach as\n",
        "                    specified above (1: logistic regression, 2: svm, 3:FFNN, etc.).\n",
        "        train_ fn (str): full path to the file containing the training data.\n",
        "\n",
        "  \"\"\"\n",
        "\n",
        "  if alg == 1:\n",
        "    m = train_logistic_regression(train_fn)\n",
        "  if alg == 2:\n",
        "    m = train_svm_classifier(train_fn)\n",
        "  if alg == 3:\n",
        "    m = train_ffnn_classifier(train_fn)\n",
        "  if alg == 4:\n",
        "    m = train_xgb_classifier(train_fn)\n",
        "  if alg == 5:\n",
        "    m = tokenize_and_train_bert(train_fn)\n",
        "\n",
        "  return m"
      ],
      "metadata": {
        "id": "Dl2qo-UY2BNX"
      },
      "execution_count": 32,
      "outputs": []
    },
    {
      "cell_type": "code",
      "source": [
        "def retrain_best_model(train_fn = None):\n",
        "  \"\"\" Retrains and returns the best performing model for the specified task. The\n",
        "      function uses the hard coded settings you have found to work best for each\n",
        "      of the tasks.\n",
        "\n",
        "      Args:\n",
        "\n",
        "  \"\"\"\n",
        "  if train_fn is None:\n",
        "        raise ValueError(\"Path to training data must be provided.\")\n",
        "\n",
        "  model = tokenize_and_train_bert(train_fn)\n",
        "  return model"
      ],
      "metadata": {
        "id": "fXYZRHxK2MMu"
      },
      "execution_count": 33,
      "outputs": []
    },
    {
      "cell_type": "code",
      "source": [
        "def predict(m, fn):\n",
        "  \"\"\" Returns a list of 0s and 1s, corresponding to the lines in the specified file.\n",
        "\n",
        "    Args:\n",
        "      m: the trained model to be used.\n",
        "      fn: the full path to a file in the same format as the test set we have proveded.\n",
        "  \"\"\"\n",
        "\n",
        "  # Transformer (HuggingFace Trainer)\n",
        "  if hasattr(m, 'predict') and hasattr(m, 'tokenizer'):\n",
        "      columns = [\"user handle\", \"tweet text\", \"time stamp\"]\n",
        "      df_test = pd.read_csv(fn, sep='\\t', names=columns)\n",
        "\n",
        "      tokenizer = m.tokenizer\n",
        "      texts = df_test[\"tweet text\"].tolist()\n",
        "\n",
        "      encodings = tokenizer(texts, truncation=True, padding=True, return_tensors=\"pt\")\n",
        "      dataset = Dataset.from_dict({\n",
        "          \"input_ids\": encodings[\"input_ids\"],\n",
        "          \"attention_mask\": encodings[\"attention_mask\"]\n",
        "      })\n",
        "\n",
        "      preds = m.predict(dataset)\n",
        "      res = preds.predictions.argmax(-1).tolist()\n",
        "\n",
        "  # Scikit-learn pipeline (Logistic Regression, SVMs, XGBoost)\n",
        "  elif isinstance(m, Pipeline):\n",
        "      df = prepare_test_dataframe(fn)\n",
        "      X = df[[  # select all expected features\n",
        "          \"tweet text\", \"tweet time\", \"year\", \"tweet length\", \"hour\",\n",
        "          \"full_caps_count\", \"init_caps_count\", \"non_letter_count\",\n",
        "          \"num_nouns\", \"num_verbs\", \"num_adjs\", \"num_advs\", \"num_pronouns\"\n",
        "      ]]\n",
        "      res = m.predict(X).tolist()\n",
        "\n",
        "  # Keras FFNN model\n",
        "  else:\n",
        "      df = prepare_test_dataframe(fn)\n",
        "      X = df[[  # same as above\n",
        "          \"tweet text\", \"tweet time\", \"year\", \"tweet length\", \"hour\",\n",
        "          \"full_caps_count\", \"init_caps_count\", \"non_letter_count\",\n",
        "          \"num_nouns\", \"num_verbs\", \"num_adjs\", \"num_advs\", \"num_pronouns\"\n",
        "      ]]\n",
        "\n",
        "      if preprocessor:\n",
        "        X_processed = preprocessor.transform(X) # Use transform, NOT fit_transform\n",
        "\n",
        "        if scipy.sparse.issparse(X_processed):\n",
        "            X_processed = X_processed.toarray()\n",
        "\n",
        "        preds = m.predict(X_processed)\n",
        "        res = (preds > 0.5).astype(int).flatten().tolist()\n",
        "      else:\n",
        "        res = []\n",
        "\n",
        "  return res"
      ],
      "metadata": {
        "id": "L6L0ZFSQ2Wjf"
      },
      "execution_count": 34,
      "outputs": []
    },
    {
      "cell_type": "code",
      "source": [
        "def who_am_i():  # this is not a class method\n",
        "    \"\"\"Returns a list of dictionaries, each dictionary with your name, id number and email. keys=['name', 'id','email']\n",
        "        (If you are submitting solo, the list should contain only one dictionary. If you submit as a team, the list should\n",
        "        contain a dictionary for each team member.)\n",
        "        Make sure you return your own info!\n",
        "    \"\"\"\n",
        "    return [{'name': 'Nadav Toledo', 'id': '209496009', 'email': 'nadavtol@post.bgu.ac.il'}]"
      ],
      "metadata": {
        "id": "lXtCY3Mc2c4q"
      },
      "execution_count": 35,
      "outputs": []
    },
    {
      "cell_type": "markdown",
      "source": [
        "# Testing"
      ],
      "metadata": {
        "id": "msCCiysAL3go"
      }
    },
    {
      "cell_type": "code",
      "source": [
        "def prepare_test_dataframe(fn):\n",
        "  # Load data\n",
        "    columns = [\"user handle\", \"tweet text\", \"time stamp\"]\n",
        "    df = pd.read_csv(fn, sep='\\t', names=columns)\n",
        "\n",
        "    # Parse timestamp\n",
        "    df[\"time stamp\"] = pd.to_datetime(df[\"time stamp\"], errors='coerce')\n",
        "\n",
        "    # Drop invalid rows\n",
        "    df.dropna(subset=[\"tweet text\", \"time stamp\"], inplace=True)\n",
        "\n",
        "    df = df[df[\"user handle\"] == \"realDonaldTrump\"]\n",
        "\n",
        "    # Feature engineering\n",
        "    df[\"tweet length\"] = df[\"tweet text\"].astype(str).apply(len)\n",
        "    df[\"hour\"] = df[\"time stamp\"].dt.hour\n",
        "    df[\"tweet time\"] = df[\"hour\"].apply(get_time_of_day)\n",
        "    df[\"year\"] = df[\"time stamp\"].dt.year.astype(str)\n",
        "\n",
        "    df[[\"full_caps_count\", \"init_caps_count\"]] = df[\"tweet text\"].apply(\n",
        "        lambda x: pd.Series(count_capitalized_patterns(x))\n",
        "    )\n",
        "\n",
        "    df[\"non_letter_count\"] = df[\"tweet text\"].apply(count_non_letters)\n",
        "\n",
        "    pos_df = df[\"tweet text\"].apply(extract_pos_features)\n",
        "    df = pd.concat([df, pos_df], axis=1)\n",
        "\n",
        "    return df\n"
      ],
      "metadata": {
        "id": "MY5i1TTa5ImO"
      },
      "execution_count": 36,
      "outputs": []
    },
    {
      "cell_type": "code",
      "source": [
        "def run_and_save_predictions(model, model_name, test_path):\n",
        "    \"\"\"\n",
        "    Runs predictions with the specified model on the test data, saves the predictions to a file,\n",
        "    and prints the count of each label.\n",
        "    \"\"\"\n",
        "    output_file = f\"{model_name}_test.txt\"\n",
        "\n",
        "    try:\n",
        "        # Predict on test data\n",
        "        predictions = predict(model, test_path)\n",
        "\n",
        "        # Save predictions to file\n",
        "        with open(output_file, 'w') as f:\n",
        "            for label in predictions:\n",
        "                f.write(f\"{label}\\n\")\n",
        "\n",
        "        print(f\"Predictions saved to {output_file}\")\n",
        "\n",
        "        # Count 0s and 1s\n",
        "        count_0 = predictions.count(0)\n",
        "        count_1 = predictions.count(1)\n",
        "\n",
        "        print(f\"{model_name} - Number of 0s: {count_0}, Number of 1s: {count_1}\")\n",
        "\n",
        "    except Exception as e:\n",
        "        print(f\"Error running predictions for {model_name}: {e}\")\n",
        "\n",
        "\n",
        "def main():\n",
        "    test_path = \"/content/trump_tweets_test_a.tsv\"\n",
        "\n",
        "    run_and_save_predictions(LR_pipeline, \"LR\", test_path)\n",
        "    run_and_save_predictions(svm_linear, \"SVM\", test_path)\n",
        "    run_and_save_predictions(FFNN_model, \"FFNN\", test_path)\n",
        "    run_and_save_predictions(XGB_model, \"XGB\", test_path)\n",
        "    run_and_save_predictions(transformer_model, \"TRANSFORMER\", test_path)\n",
        "\n",
        "if __name__ == \"__main__\":\n",
        "    main()"
      ],
      "metadata": {
        "id": "lGHBWBMY33ZR",
        "outputId": "d9ca7ae7-1992-4678-a3b5-92a9e40c19f3",
        "colab": {
          "base_uri": "https://localhost:8080/",
          "height": 254
        }
      },
      "execution_count": 37,
      "outputs": [
        {
          "output_type": "stream",
          "name": "stdout",
          "text": [
            "Predictions saved to LR_test.txt\n",
            "LR - Number of 0s: 112, Number of 1s: 45\n",
            "Predictions saved to SVM_test.txt\n",
            "SVM - Number of 0s: 116, Number of 1s: 41\n",
            "\u001b[1m5/5\u001b[0m \u001b[32m━━━━━━━━━━━━━━━━━━━━\u001b[0m\u001b[37m\u001b[0m \u001b[1m1s\u001b[0m 115ms/step\n",
            "Predictions saved to FFNN_test.txt\n",
            "FFNN - Number of 0s: 124, Number of 1s: 33\n"
          ]
        },
        {
          "output_type": "stream",
          "name": "stderr",
          "text": [
            "Trainer.tokenizer is now deprecated. You should use Trainer.processing_class instead.\n",
            "Trainer.tokenizer is now deprecated. You should use Trainer.processing_class instead.\n"
          ]
        },
        {
          "output_type": "stream",
          "name": "stdout",
          "text": [
            "Predictions saved to XGB_test.txt\n",
            "XGB - Number of 0s: 115, Number of 1s: 42\n"
          ]
        },
        {
          "output_type": "display_data",
          "data": {
            "text/plain": [
              "<IPython.core.display.HTML object>"
            ],
            "text/html": []
          },
          "metadata": {}
        },
        {
          "output_type": "stream",
          "name": "stdout",
          "text": [
            "Predictions saved to TRANSFORMER_test.txt\n",
            "TRANSFORMER - Number of 0s: 119, Number of 1s: 39\n"
          ]
        }
      ]
    },
    {
      "cell_type": "markdown",
      "source": [
        "# Feature Importance"
      ],
      "metadata": {
        "id": "DmLM3CimLxe4"
      }
    },
    {
      "cell_type": "code",
      "source": [
        "def visualize_feature_importance(model_name, model, preprocessor, X_raw):\n",
        "    \"\"\"\n",
        "    Visualizes feature importance depending on the model type.\n",
        "\n",
        "    Args:\n",
        "        model_name (str): Name of the model (e.g., 'LR', 'SVM', 'FFNN', 'XGB')\n",
        "        model: Trained model\n",
        "        preprocessor: Fitted ColumnTransformer used during training\n",
        "        X_raw: Original (unprocessed) feature dataframe\n",
        "    \"\"\"\n",
        "    print(f\"\\n--- Feature Importance for {model_name} ---\")\n",
        "\n",
        "    # Compose full feature names\n",
        "    # Need to check if 'text' transformer was used by this preprocessor instance\n",
        "    text_features = preprocessor.named_transformers_['text'].get_feature_names_out() if 'text' in preprocessor.named_transformers_ else []\n",
        "    cat_features = preprocessor.named_transformers_['cat'].get_feature_names_out(['tweet time', 'year']) if 'cat' in preprocessor.named_transformers_ else []\n",
        "    num_features = [\n",
        "        'tweet length', 'hour',\n",
        "        'full_caps_count', 'init_caps_count', 'non_letter_count',\n",
        "        'num_nouns', 'num_verbs', 'num_adjs', 'num_advs', 'num_pronouns'\n",
        "    ]\n",
        "    feature_names = list(text_features) + list(cat_features) + num_features\n",
        "\n",
        "    # Transform raw features\n",
        "    X_processed = preprocessor.transform(X_raw)\n",
        "    if hasattr(X_processed, \"toarray\"):  # sparse matrix\n",
        "        X_processed = X_processed.toarray()\n",
        "\n",
        "    if model_name in [\"LR\", \"SVM\"]:\n",
        "        # Access the classifier inside the pipeline\n",
        "        coef = model.named_steps['classifier'].coef_.flatten()\n",
        "        top_n = 10\n",
        "        top_pos = coef.argsort()[-top_n:][::-1]\n",
        "        top_neg = coef.argsort()[:top_n]\n",
        "\n",
        "        print(f\"\\nTop {top_n} positive features (favoring class 1):\")\n",
        "        for i in top_pos:\n",
        "            print(f\"{feature_names[i]}: {coef[i]:.4f}\")\n",
        "\n",
        "        print(f\"\\nTop {top_n} negative features (favoring class 0):\")\n",
        "        for i in top_neg:\n",
        "            print(f\"{feature_names[i]}: {coef[i]:.4f}\")\n",
        "\n",
        "    elif model_name == \"XGB\":\n",
        "        # Access the XGBClassifier inside the pipeline and then its booster\n",
        "        xgb_classifier = model.named_steps['classifier']\n",
        "        xgb_classifier.get_booster().feature_names = feature_names\n",
        "        plot_importance(xgb_classifier.get_booster(), importance_type='gain', max_num_features=15)\n",
        "        plt.title(\"Top 15 Important Features (XGBoost)\")\n",
        "        plt.show()\n",
        "\n",
        "    elif model_name == \"FFNN\":\n",
        "        try:\n",
        "            print(\"Running SHAP analysis for FFNN...\")\n",
        "            # Ensure X_processed is a numpy array for SHAP if it was sparse\n",
        "            if scipy.sparse.issparse(X_processed):\n",
        "                 X_processed_dense = X_processed.toarray()\n",
        "            else:\n",
        "                 X_processed_dense = X_processed\n",
        "\n",
        "            # Limit the number of samples for performance in SHAP\n",
        "            num_shap_samples = min(X_processed_dense.shape[0], 100)\n",
        "\n",
        "            # Use the trained Keras model directly\n",
        "            explainer = shap.KernelExplainer(model.predict, X_processed_dense[:num_shap_samples])\n",
        "            shap_values = explainer.shap_values(X_processed_dense[:num_shap_samples])\n",
        "\n",
        "            # SHAP plotting requires the feature names\n",
        "            # shap_values will be a list of arrays for multi-output models,\n",
        "            # for binary classification, it's usually one array\n",
        "            shap.summary_plot(shap_values[0] if isinstance(shap_values, list) else shap_values,\n",
        "                              X_processed_dense[:num_shap_samples],\n",
        "                              feature_names=feature_names)\n",
        "        except Exception as e:\n",
        "            print(f\"SHAP analysis failed for FFNN: {e}\")\n",
        "\n",
        "    else:\n",
        "        print(f\"Feature importance not supported for model: {model_name}\")"
      ],
      "metadata": {
        "id": "FuOcUWAhC08g"
      },
      "execution_count": 15,
      "outputs": []
    },
    {
      "cell_type": "code",
      "source": [
        "df = prepare_tweet_dataframe(\"/content/trump_train.tsv\")\n",
        "X_raw = df[[\n",
        "    \"tweet text\", \"tweet time\", \"year\", \"tweet length\", \"hour\",\n",
        "    \"full_caps_count\", \"init_caps_count\", \"non_letter_count\",\n",
        "    \"num_nouns\", \"num_verbs\", \"num_adjs\", \"num_advs\", \"num_pronouns\"\n",
        "]]\n",
        "\n",
        "# Logistic Regression\n",
        "# The LR_pipeline contains its own preprocessor\n",
        "visualize_feature_importance(\"LR\", LR_pipeline, LR_pipeline.named_steps['preprocessor'], X_raw)\n",
        "\n",
        "# FFNN\n",
        "# FFNN_model was trained using the global 'preprocessor' from train_ffnn_classifier\n",
        "visualize_feature_importance(\"FFNN\", FFNN_model, preprocessor, X_raw)\n",
        "\n",
        "# XGBoost\n",
        "# The XGB_model pipeline contains its own preprocessor\n",
        "visualize_feature_importance(\"XGB\", XGB_model, XGB_model.named_steps['preprocessor'], X_raw)"
      ],
      "metadata": {
        "colab": {
          "base_uri": "https://localhost:8080/",
          "height": 614,
          "referenced_widgets": [
            "23da880e1ce644fbaf79fa1d7ec5d71a",
            "8fbb9f8d82e54cc3bab51dcdd4dc1d17",
            "ab137fc013f94c7a9ee4a0690d1c8da9",
            "da9466af18e046cebe5798154202bf18",
            "9dc9537e759c4beda8e84dd2bffc4a80",
            "48d7308973fb411da32cd08c76512965",
            "43710ca1d4b441c8ac869b33cf21c6db",
            "9328cb42d8574ed4956fca6b278d3b78",
            "7a996020e6d04ca6af0c53d205142f48",
            "fed9dcdbde7440c58ab33f4de9511a8f",
            "301777dc25c040a7a89873f8252e6a3c"
          ]
        },
        "id": "OyMPNP7iC-RZ",
        "outputId": "d15016b0-f987-4ac7-8fcc-9ec1af5757d4"
      },
      "execution_count": null,
      "outputs": [
        {
          "output_type": "stream",
          "name": "stdout",
          "text": [
            "\n",
            "--- Feature Importance for LR ---\n",
            "\n",
            "Top 10 positive features (favoring class 1):\n",
            "https: 6.1932\n",
            "amp: 2.7398\n",
            "non_letter_count: 2.3973\n",
            "trump2016: 2.0072\n",
            "rt: 1.9904\n",
            "thank: 1.3630\n",
            "trying: 1.2002\n",
            "makeamericagreatagain: 1.1438\n",
            "honor: 1.1364\n",
            "tune: 1.0949\n",
            "\n",
            "Top 10 negative features (favoring class 0):\n",
            "realdonaldtrump: -4.3308\n",
            "00: -1.8165\n",
            "num_adjs: -1.7076\n",
            "trump: -1.5009\n",
            "tweet time_noon: -1.4026\n",
            "big: -1.2835\n",
            "crooked: -1.1064\n",
            "president: -0.9993\n",
            "cnn: -0.9838\n",
            "cruz: -0.9773\n",
            "\n",
            "--- Feature Importance for FFNN ---\n",
            "Running SHAP analysis for FFNN...\n",
            "\u001b[1m4/4\u001b[0m \u001b[32m━━━━━━━━━━━━━━━━━━━━\u001b[0m\u001b[37m\u001b[0m \u001b[1m0s\u001b[0m 110ms/step\n"
          ]
        },
        {
          "output_type": "display_data",
          "data": {
            "text/plain": [
              "  0%|          | 0/100 [00:00<?, ?it/s]"
            ],
            "application/vnd.jupyter.widget-view+json": {
              "version_major": 2,
              "version_minor": 0,
              "model_id": "23da880e1ce644fbaf79fa1d7ec5d71a"
            }
          },
          "metadata": {}
        },
        {
          "output_type": "stream",
          "name": "stdout",
          "text": [
            "\u001b[1m1/1\u001b[0m \u001b[32m━━━━━━━━━━━━━━━━━━━━\u001b[0m\u001b[37m\u001b[0m \u001b[1m0s\u001b[0m 236ms/step\n"
          ]
        }
      ]
    }
  ]
}